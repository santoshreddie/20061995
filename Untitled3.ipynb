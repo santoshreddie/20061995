{
 "cells": [
  {
   "cell_type": "markdown",
   "metadata": {},
   "source": [
    "# Bubble sort"
   ]
  },
  {
   "cell_type": "code",
   "execution_count": 17,
   "metadata": {},
   "outputs": [],
   "source": [
    "# Optimized Bubble sort in Python\n",
    "\n",
    "def bubbleSort(array):\n",
    "    \n",
    "  # loop through each element of array\n",
    "  for i in range(len(array)):\n",
    "        \n",
    "    # keep track of swapping\n",
    "    swapped = False\n",
    "    \n",
    "    # loop to compare array elements\n",
    "    for j in range(0, len(array) - i - 1):\n",
    "\n",
    "      # compare two adjacent elements\n",
    "      # change > to < to sort in descending order\n",
    "          if array[j] > array[j + 1]:\n",
    "\n",
    "        # swapping occurs if elements\n",
    "        # are not in the intended order\n",
    "            temp = array[j]\n",
    "            array[j] = array[j+1]\n",
    "            array[j+1] = temp\n",
    "\n",
    "            swapped = True\n",
    "          \n",
    "    # no swapping means the array is already sorted\n",
    "    # so no need for further comparison\n",
    "    if not swapped:\n",
    "        break\n",
    "\n"
   ]
  },
  {
   "cell_type": "code",
   "execution_count": 18,
   "metadata": {},
   "outputs": [
    {
     "name": "stdout",
     "output_type": "stream",
     "text": [
      "[-9, -2, 0, 11, 45]\n"
     ]
    }
   ],
   "source": [
    "data = [-2, 45, 0, 11, -9]\n",
    "bubbleSort(data)\n",
    "\n",
    "print(data)\n",
    "\n"
   ]
  },
  {
   "cell_type": "code",
   "execution_count": 25,
   "metadata": {},
   "outputs": [],
   "source": [
    "def selectionsort(lst):\n",
    "    n = len(lst)\n",
    "    for i in range(n-1):\n",
    "        min = i\n",
    "        for j in range(i + 1, n):\n",
    "            if(lst[j] < lst[min]):\n",
    "                min = j\n",
    "                \n",
    "        lst[i], lst[min] = lst[min], lst[i]"
   ]
  },
  {
   "cell_type": "code",
   "execution_count": 26,
   "metadata": {},
   "outputs": [
    {
     "name": "stdout",
     "output_type": "stream",
     "text": [
      "[-12, -1, 1, 7, 10, 50]\n"
     ]
    }
   ],
   "source": [
    "lst = [1, 7, 10, -1, 50, -12]\n",
    "selectionsort(lst)\n",
    "print(lst)"
   ]
  },
  {
   "cell_type": "code",
   "execution_count": 39,
   "metadata": {},
   "outputs": [
    {
     "name": "stdout",
     "output_type": "stream",
     "text": [
      "-4\n",
      "-2\n",
      " 1\n",
      " 3\n",
      " 3\n",
      " 4\n",
      " 4\n",
      " 7\n"
     ]
    }
   ],
   "source": [
    "# Python program for implementation of Insertion Sort\n",
    " \n",
    "# Function to do insertion sort\n",
    "def insertionSort(arr):\n",
    " \n",
    "    # Traverse through 1 to len(arr)\n",
    "    for i in range(1, len(arr)):\n",
    " \n",
    "        key = arr[i]\n",
    " \n",
    "        # Move elements of arr[0..i-1], that are\n",
    "        # greater than key, to one position ahead\n",
    "        # of their current position\n",
    "        j = i-1\n",
    "        while j >= 0 and key < arr[j] :\n",
    "                arr[j + 1] = arr[j]\n",
    "                j -= 1\n",
    "        arr[j + 1] = key\n",
    "        \n",
    "arr = [1, 3, 4, 7, 4, 3, -2, -4]\n",
    "insertionSort(arr)\n",
    "for i in range(len(arr)):\n",
    "    print (\"% d\" % arr[i])\n",
    " "
   ]
  },
  {
   "cell_type": "code",
   "execution_count": 35,
   "metadata": {},
   "outputs": [
    {
     "name": "stdout",
     "output_type": "stream",
     "text": [
      "[-4, 3, 3, 4, 4, 3, -2, -4]\n"
     ]
    }
   ],
   "source": [
    "arr = [1, 3, 4, 7, 4, 3, -2, -4]\n",
    "insertionsort(arr)\n",
    "print(arr)"
   ]
  },
  {
   "cell_type": "code",
   "execution_count": null,
   "metadata": {},
   "outputs": [],
   "source": []
  },
  {
   "cell_type": "code",
   "execution_count": null,
   "metadata": {},
   "outputs": [],
   "source": []
  },
  {
   "cell_type": "code",
   "execution_count": null,
   "metadata": {},
   "outputs": [],
   "source": []
  },
  {
   "cell_type": "code",
   "execution_count": null,
   "metadata": {},
   "outputs": [],
   "source": []
  }
 ],
 "metadata": {
  "kernelspec": {
   "display_name": "Python 3.8.3 64-bit ('base': conda)",
   "language": "python",
   "name": "python38364bitbasecondaf5ae4ab580394e4693ea5507f08b0bfd"
  },
  "language_info": {
   "codemirror_mode": {
    "name": "ipython",
    "version": 3
   },
   "file_extension": ".py",
   "mimetype": "text/x-python",
   "name": "python",
   "nbconvert_exporter": "python",
   "pygments_lexer": "ipython3",
   "version": "3.8.3"
  }
 },
 "nbformat": 4,
 "nbformat_minor": 4
}
