{
 "cells": [
  {
   "cell_type": "code",
   "execution_count": 3,
   "metadata": {},
   "outputs": [
    {
     "name": "stdout",
     "output_type": "stream",
     "text": [
      "Requirement already satisfied: pandas in /home/santosh/.local/lib/python3.8/site-packages (1.1.1)\n",
      "Requirement already satisfied: python-dateutil>=2.7.3 in /home/santosh/anaconda3/lib/python3.8/site-packages (from pandas) (2.8.1)\n",
      "Requirement already satisfied: numpy>=1.15.4 in /home/santosh/.local/lib/python3.8/site-packages (from pandas) (1.19.1)\n",
      "Requirement already satisfied: pytz>=2017.2 in /home/santosh/anaconda3/lib/python3.8/site-packages (from pandas) (2020.1)\n",
      "Requirement already satisfied: six>=1.5 in /home/santosh/anaconda3/lib/python3.8/site-packages (from python-dateutil>=2.7.3->pandas) (1.15.0)\n",
      "Note: you may need to restart the kernel to use updated packages.\n"
     ]
    }
   ],
   "source": [
    "pip install pandas"
   ]
  },
  {
   "cell_type": "code",
   "execution_count": 4,
   "metadata": {},
   "outputs": [
    {
     "ename": "NameError",
     "evalue": "name 'pandas' is not defined",
     "output_type": "error",
     "traceback": [
      "\u001b[0;31m---------------------------------------------------------------------------\u001b[0m",
      "\u001b[0;31mNameError\u001b[0m                                 Traceback (most recent call last)",
      "\u001b[0;32m<ipython-input-4-800b3708db0c>\u001b[0m in \u001b[0;36m<module>\u001b[0;34m\u001b[0m\n\u001b[0;32m----> 1\u001b[0;31m \u001b[0mhelp\u001b[0m\u001b[0;34m(\u001b[0m\u001b[0mpandas\u001b[0m\u001b[0;34m)\u001b[0m\u001b[0;34m\u001b[0m\u001b[0;34m\u001b[0m\u001b[0m\n\u001b[0m",
      "\u001b[0;31mNameError\u001b[0m: name 'pandas' is not defined"
     ]
    }
   ],
   "source": [
    "help(pandas)"
   ]
  },
  {
   "cell_type": "code",
   "execution_count": null,
   "metadata": {},
   "outputs": [],
   "source": [
    "import random\n",
    "random.seed(100)\n",
    "\n",
    "print(random.random())\n",
    "\n",
    "\n"
   ]
  },
  {
   "cell_type": "code",
   "execution_count": null,
   "metadata": {},
   "outputs": [],
   "source": [
    "import mysql.connector\n",
    "con = mysql.connector.connect(\n",
    "  host=\"localhost\",\n",
    "  user=\"root\",\n",
    "  port=\"3306\",\n",
    "  passwd=\"Day2live@\",\n",
    "  database=\"school\"\n",
    ")"
   ]
  },
  {
   "cell_type": "code",
   "execution_count": null,
   "metadata": {},
   "outputs": [],
   "source": [
    "import pandas as pd"
   ]
  },
  {
   "cell_type": "code",
   "execution_count": null,
   "metadata": {},
   "outputs": [],
   "source": [
    "df1 = pd.read_sql_query(\"select * from marks;\", con)"
   ]
  },
  {
   "cell_type": "code",
   "execution_count": null,
   "metadata": {},
   "outputs": [],
   "source": [
    "df1"
   ]
  },
  {
   "cell_type": "code",
   "execution_count": null,
   "metadata": {},
   "outputs": [],
   "source": [
    "for i in df1:\n",
    "    print(i)"
   ]
  },
  {
   "cell_type": "code",
   "execution_count": null,
   "metadata": {},
   "outputs": [],
   "source": [
    "df1.shape()"
   ]
  },
  {
   "cell_type": "code",
   "execution_count": null,
   "metadata": {},
   "outputs": [],
   "source": [
    "df1"
   ]
  },
  {
   "cell_type": "code",
   "execution_count": null,
   "metadata": {},
   "outputs": [],
   "source": [
    "import mysql.connector\n",
    "con = mysql.connector.connect(\n",
    "  host=\"localhost\",\n",
    "  user=\"root\",\n",
    "  port=\"3306\",\n",
    "  passwd=\"Day2live@\",\n",
    "  database=\"school\"\n",
    ")"
   ]
  },
  {
   "cell_type": "code",
   "execution_count": null,
   "metadata": {},
   "outputs": [],
   "source": [
    "\n",
    "import pandas as pd\n",
    "df1 = pd.read_sql_query(\"select * from marks;\", con)"
   ]
  },
  {
   "cell_type": "code",
   "execution_count": null,
   "metadata": {},
   "outputs": [],
   "source": [
    "df1"
   ]
  },
  {
   "cell_type": "code",
   "execution_count": null,
   "metadata": {},
   "outputs": [],
   "source": [
    "df = pd.read_csv(\"csv1.csv\")\n"
   ]
  },
  {
   "cell_type": "code",
   "execution_count": null,
   "metadata": {},
   "outputs": [],
   "source": [
    "df\n"
   ]
  },
  {
   "cell_type": "code",
   "execution_count": null,
   "metadata": {},
   "outputs": [],
   "source": [
    "df.shape()\n"
   ]
  },
  {
   "cell_type": "code",
   "execution_count": null,
   "metadata": {},
   "outputs": [],
   "source": [
    "df.shape"
   ]
  },
  {
   "cell_type": "code",
   "execution_count": null,
   "metadata": {},
   "outputs": [],
   "source": [
    "df.info\n"
   ]
  },
  {
   "cell_type": "code",
   "execution_count": null,
   "metadata": {},
   "outputs": [],
   "source": [
    "df.describe()"
   ]
  },
  {
   "cell_type": "code",
   "execution_count": null,
   "metadata": {},
   "outputs": [],
   "source": []
  },
  {
   "cell_type": "code",
   "execution_count": null,
   "metadata": {},
   "outputs": [],
   "source": [
    "import pandas as pd\n"
   ]
  },
  {
   "cell_type": "code",
   "execution_count": null,
   "metadata": {},
   "outputs": [],
   "source": [
    "a = pd.read_csv('train.csv')\n",
    "\n"
   ]
  },
  {
   "cell_type": "code",
   "execution_count": null,
   "metadata": {},
   "outputs": [],
   "source": [
    "a"
   ]
  },
  {
   "cell_type": "code",
   "execution_count": null,
   "metadata": {},
   "outputs": [],
   "source": [
    "a.describe()"
   ]
  },
  {
   "cell_type": "code",
   "execution_count": null,
   "metadata": {},
   "outputs": [],
   "source": [
    "a.head()"
   ]
  },
  {
   "cell_type": "code",
   "execution_count": null,
   "metadata": {},
   "outputs": [],
   "source": [
    "a.tail()"
   ]
  },
  {
   "cell_type": "code",
   "execution_count": null,
   "metadata": {},
   "outputs": [],
   "source": [
    "import pandas as pd"
   ]
  },
  {
   "cell_type": "code",
   "execution_count": null,
   "metadata": {},
   "outputs": [],
   "source": [
    "x = pd.Series(dtype = float)"
   ]
  },
  {
   "cell_type": "code",
   "execution_count": null,
   "metadata": {},
   "outputs": [],
   "source": [
    "x"
   ]
  },
  {
   "cell_type": "code",
   "execution_count": null,
   "metadata": {},
   "outputs": [],
   "source": [
    "import numpy as np\n",
    "import pandas as pd\n",
    "x = np.array([1, 2, 3, 4, 5, 6, 7])\n",
    "b = pd.Series(x)\n",
    "x"
   ]
  },
  {
   "cell_type": "code",
   "execution_count": null,
   "metadata": {},
   "outputs": [],
   "source": []
  },
  {
   "cell_type": "code",
   "execution_count": null,
   "metadata": {},
   "outputs": [],
   "source": [
    "b"
   ]
  },
  {
   "cell_type": "code",
   "execution_count": null,
   "metadata": {},
   "outputs": [],
   "source": [
    "import numpy as np\n",
    "import pandas as pd\n",
    "\n",
    "x = {\"x\":0, \"y\":1, \"z\":2}\n",
    "y = pd.Series(x, dtype=float)\n",
    "y\n"
   ]
  },
  {
   "cell_type": "code",
   "execution_count": null,
   "metadata": {},
   "outputs": [],
   "source": [
    "import pandas as pd\n",
    "import numpy as np\n",
    "x = pd.Series([1, 2, 3, 4, 5], dtype = float)\n",
    "x.index"
   ]
  },
  {
   "cell_type": "code",
   "execution_count": null,
   "metadata": {},
   "outputs": [],
   "source": [
    "x.dtype"
   ]
  },
  {
   "cell_type": "code",
   "execution_count": null,
   "metadata": {},
   "outputs": [],
   "source": [
    "len(x)"
   ]
  },
  {
   "cell_type": "code",
   "execution_count": null,
   "metadata": {},
   "outputs": [],
   "source": [
    "x.hasnans"
   ]
  },
  {
   "cell_type": "code",
   "execution_count": null,
   "metadata": {},
   "outputs": [],
   "source": [
    "x = pd.Series(\"train.csv\")"
   ]
  },
  {
   "cell_type": "code",
   "execution_count": null,
   "metadata": {},
   "outputs": [],
   "source": [
    "x"
   ]
  },
  {
   "cell_type": "code",
   "execution_count": null,
   "metadata": {},
   "outputs": [],
   "source": [
    "import pandas as pd"
   ]
  },
  {
   "cell_type": "code",
   "execution_count": null,
   "metadata": {},
   "outputs": [],
   "source": [
    "df = pd.read_csv('animelist.csv')\n"
   ]
  },
  {
   "cell_type": "code",
   "execution_count": null,
   "metadata": {},
   "outputs": [],
   "source": [
    "df\n"
   ]
  },
  {
   "cell_type": "code",
   "execution_count": null,
   "metadata": {},
   "outputs": [],
   "source": [
    "df.set_index['']"
   ]
  },
  {
   "cell_type": "code",
   "execution_count": null,
   "metadata": {},
   "outputs": [],
   "source": [
    "pip install json"
   ]
  },
  {
   "cell_type": "code",
   "execution_count": null,
   "metadata": {},
   "outputs": [],
   "source": [
    "import json"
   ]
  },
  {
   "cell_type": "code",
   "execution_count": null,
   "metadata": {},
   "outputs": [],
   "source": [
    "people = {\n",
    "    'name' : ['santosh', 'santosh1', 'mouli','ratnavathi', 'reddygaru'],\n",
    "    'place' : ['rekhapalli', 'bhayyaram', 'rekhapalli', 'anaparthi', 'rehapalli'],\n",
    "    'gender' : ['25', '30', '24', '43', '53']\n",
    "}\n",
    "\n",
    "list1 = json.dumps(people, indent = 4)"
   ]
  },
  {
   "cell_type": "code",
   "execution_count": null,
   "metadata": {},
   "outputs": [],
   "source": [
    "list2 = json.loads(list1)"
   ]
  },
  {
   "cell_type": "code",
   "execution_count": null,
   "metadata": {},
   "outputs": [],
   "source": [
    "list2[['place'],['name']]"
   ]
  },
  {
   "cell_type": "code",
   "execution_count": null,
   "metadata": {},
   "outputs": [],
   "source": [
    "with open('iris.json', 'r') as read:\n",
    "    d = json.load(read)"
   ]
  },
  {
   "cell_type": "code",
   "execution_count": null,
   "metadata": {},
   "outputs": [],
   "source": [
    "import pandas as pd\n",
    "p = pd.read_csv(\"temperature.csv\")"
   ]
  },
  {
   "cell_type": "code",
   "execution_count": null,
   "metadata": {},
   "outputs": [],
   "source": [
    "p"
   ]
  },
  {
   "cell_type": "code",
   "execution_count": null,
   "metadata": {},
   "outputs": [],
   "source": [
    "p['unnamed']"
   ]
  },
  {
   "cell_type": "code",
   "execution_count": null,
   "metadata": {},
   "outputs": [],
   "source": [
    "import os\n",
    "os.name"
   ]
  },
  {
   "cell_type": "code",
   "execution_count": null,
   "metadata": {},
   "outputs": [],
   "source": [
    "import os\n",
    "os.getcwd()"
   ]
  },
  {
   "cell_type": "code",
   "execution_count": null,
   "metadata": {},
   "outputs": [],
   "source": [
    "pd.set_option('display.max_columns', 85)"
   ]
  },
  {
   "cell_type": "code",
   "execution_count": null,
   "metadata": {},
   "outputs": [],
   "source": [
    "p\n"
   ]
  },
  {
   "cell_type": "code",
   "execution_count": null,
   "metadata": {},
   "outputs": [],
   "source": [
    "pd.set_option(\"display.max_columns\", 85)"
   ]
  },
  {
   "cell_type": "code",
   "execution_count": null,
   "metadata": {},
   "outputs": [],
   "source": [
    "p.head()"
   ]
  },
  {
   "cell_type": "code",
   "execution_count": null,
   "metadata": {},
   "outputs": [],
   "source": [
    "df = pd.DataFrame(\"temperature.csv\", index='false')"
   ]
  },
  {
   "cell_type": "code",
   "execution_count": null,
   "metadata": {},
   "outputs": [],
   "source": [
    "import pandas as pd\n",
    "df = pd.read_csv('iris.csv')"
   ]
  },
  {
   "cell_type": "code",
   "execution_count": null,
   "metadata": {},
   "outputs": [],
   "source": []
  },
  {
   "cell_type": "code",
   "execution_count": null,
   "metadata": {},
   "outputs": [],
   "source": [
    "fil = df.loc['class']"
   ]
  },
  {
   "cell_type": "code",
   "execution_count": 2,
   "metadata": {},
   "outputs": [],
   "source": [
    "import pandas as pd"
   ]
  },
  {
   "cell_type": "code",
   "execution_count": 16,
   "metadata": {},
   "outputs": [],
   "source": [
    "df3 = pd.read_csv(\"UFO.csv\",)"
   ]
  },
  {
   "cell_type": "code",
   "execution_count": 17,
   "metadata": {},
   "outputs": [],
   "source": [
    "df3 = df3.rename(columns={\"Date / Time\" : \"Date-And-Time\"})"
   ]
  },
  {
   "cell_type": "code",
   "execution_count": null,
   "metadata": {},
   "outputs": [],
   "source": []
  },
  {
   "cell_type": "raw",
   "metadata": {},
   "source": []
  },
  {
   "cell_type": "code",
   "execution_count": 25,
   "metadata": {},
   "outputs": [],
   "source": []
  },
  {
   "cell_type": "code",
   "execution_count": 56,
   "metadata": {},
   "outputs": [],
   "source": []
  },
  {
   "cell_type": "code",
   "execution_count": 58,
   "metadata": {},
   "outputs": [],
   "source": [
    "df3.reset_index(inplace=True)"
   ]
  },
  {
   "cell_type": "code",
   "execution_count": 60,
   "metadata": {},
   "outputs": [],
   "source": [
    "df3.rename(columns={'Date-And-Time' : 'Date', 'Unnamed: 0' : 'num'}, inplace=True)"
   ]
  },
  {
   "cell_type": "code",
   "execution_count": 61,
   "metadata": {},
   "outputs": [
    {
     "data": {
      "text/html": [
       "<div>\n",
       "<style scoped>\n",
       "    .dataframe tbody tr th:only-of-type {\n",
       "        vertical-align: middle;\n",
       "    }\n",
       "\n",
       "    .dataframe tbody tr th {\n",
       "        vertical-align: top;\n",
       "    }\n",
       "\n",
       "    .dataframe thead th {\n",
       "        text-align: right;\n",
       "    }\n",
       "</style>\n",
       "<table border=\"1\" class=\"dataframe\">\n",
       "  <thead>\n",
       "    <tr style=\"text-align: right;\">\n",
       "      <th></th>\n",
       "      <th>num</th>\n",
       "      <th>Date</th>\n",
       "      <th>Country</th>\n",
       "      <th>City</th>\n",
       "      <th>State</th>\n",
       "      <th>Shape</th>\n",
       "      <th>Summary</th>\n",
       "      <th>lat</th>\n",
       "      <th>lng</th>\n",
       "    </tr>\n",
       "  </thead>\n",
       "  <tbody>\n",
       "    <tr>\n",
       "      <th>0</th>\n",
       "      <td>0</td>\n",
       "      <td>12/21/16 19:15</td>\n",
       "      <td>USA</td>\n",
       "      <td>Waynesboro</td>\n",
       "      <td>VA</td>\n",
       "      <td>Sphere</td>\n",
       "      <td>Bright round object hovering in sky.</td>\n",
       "      <td>38.065229</td>\n",
       "      <td>-78.905888</td>\n",
       "    </tr>\n",
       "    <tr>\n",
       "      <th>1</th>\n",
       "      <td>1</td>\n",
       "      <td>12/21/16 00:00</td>\n",
       "      <td>USA</td>\n",
       "      <td>Louisville</td>\n",
       "      <td>KY</td>\n",
       "      <td>Unknown</td>\n",
       "      <td>Multiple craft ascending from north of Shelbyv...</td>\n",
       "      <td>38.254238</td>\n",
       "      <td>-85.759407</td>\n",
       "    </tr>\n",
       "    <tr>\n",
       "      <th>2</th>\n",
       "      <td>2</td>\n",
       "      <td>12/20/16 22:30</td>\n",
       "      <td>USA</td>\n",
       "      <td>Santa Rosa</td>\n",
       "      <td>CA</td>\n",
       "      <td>Sphere</td>\n",
       "      <td>Bright orange planet-like object sighted near ...</td>\n",
       "      <td>38.440467</td>\n",
       "      <td>-122.714431</td>\n",
       "    </tr>\n",
       "    <tr>\n",
       "      <th>3</th>\n",
       "      <td>3</td>\n",
       "      <td>12/20/16 19:00</td>\n",
       "      <td>USA</td>\n",
       "      <td>Fresno</td>\n",
       "      <td>CA</td>\n",
       "      <td>Circle</td>\n",
       "      <td>Twelve orange globes in formation over Fresno</td>\n",
       "      <td>36.729529</td>\n",
       "      <td>-119.708861</td>\n",
       "    </tr>\n",
       "    <tr>\n",
       "      <th>4</th>\n",
       "      <td>4</td>\n",
       "      <td>12/19/16 21:53</td>\n",
       "      <td>USA</td>\n",
       "      <td>Reymert</td>\n",
       "      <td>AZ</td>\n",
       "      <td>Circle</td>\n",
       "      <td>While camping in the Cottonwood canyon Rd., al...</td>\n",
       "      <td>33.229779</td>\n",
       "      <td>-111.209290</td>\n",
       "    </tr>\n",
       "    <tr>\n",
       "      <th>...</th>\n",
       "      <td>...</td>\n",
       "      <td>...</td>\n",
       "      <td>...</td>\n",
       "      <td>...</td>\n",
       "      <td>...</td>\n",
       "      <td>...</td>\n",
       "      <td>...</td>\n",
       "      <td>...</td>\n",
       "      <td>...</td>\n",
       "    </tr>\n",
       "    <tr>\n",
       "      <th>5172</th>\n",
       "      <td>5172</td>\n",
       "      <td>2016-01-01 00:00:00</td>\n",
       "      <td>USA</td>\n",
       "      <td>Elk Grove</td>\n",
       "      <td>CA</td>\n",
       "      <td>Light</td>\n",
       "      <td>6-7 peach-colored craft moving easterly direct...</td>\n",
       "      <td>38.408799</td>\n",
       "      <td>-121.371618</td>\n",
       "    </tr>\n",
       "    <tr>\n",
       "      <th>5173</th>\n",
       "      <td>5173</td>\n",
       "      <td>2016-01-01 00:00:00</td>\n",
       "      <td>USA</td>\n",
       "      <td>Anchorage</td>\n",
       "      <td>AK</td>\n",
       "      <td>Circle</td>\n",
       "      <td>New Years yellow objects.</td>\n",
       "      <td>61.216313</td>\n",
       "      <td>-149.894852</td>\n",
       "    </tr>\n",
       "    <tr>\n",
       "      <th>5174</th>\n",
       "      <td>5174</td>\n",
       "      <td>2016-01-01 00:00:00</td>\n",
       "      <td>USA</td>\n",
       "      <td>Sodaville</td>\n",
       "      <td>OR</td>\n",
       "      <td>Sphere</td>\n",
       "      <td>Two balls of orange light seen above the trees...</td>\n",
       "      <td>44.483395</td>\n",
       "      <td>-122.869982</td>\n",
       "    </tr>\n",
       "    <tr>\n",
       "      <th>5175</th>\n",
       "      <td>5175</td>\n",
       "      <td>2016-01-01 00:00:00</td>\n",
       "      <td>USA</td>\n",
       "      <td>Arnold</td>\n",
       "      <td>MO</td>\n",
       "      <td>Triangle</td>\n",
       "      <td>Triangle obj. moving W to SE from my position....</td>\n",
       "      <td>38.432832</td>\n",
       "      <td>-90.377619</td>\n",
       "    </tr>\n",
       "    <tr>\n",
       "      <th>5176</th>\n",
       "      <td>5176</td>\n",
       "      <td>2016-01-01 00:00:00</td>\n",
       "      <td>USA</td>\n",
       "      <td>Vernon</td>\n",
       "      <td>CT</td>\n",
       "      <td>Sphere</td>\n",
       "      <td>Red sphere in the sky.</td>\n",
       "      <td>36.092946</td>\n",
       "      <td>-80.149628</td>\n",
       "    </tr>\n",
       "  </tbody>\n",
       "</table>\n",
       "<p>5177 rows × 9 columns</p>\n",
       "</div>"
      ],
      "text/plain": [
       "       num                 Date Country        City State     Shape  \\\n",
       "0        0       12/21/16 19:15     USA  Waynesboro    VA    Sphere   \n",
       "1        1       12/21/16 00:00     USA  Louisville    KY   Unknown   \n",
       "2        2       12/20/16 22:30     USA  Santa Rosa    CA    Sphere   \n",
       "3        3       12/20/16 19:00     USA      Fresno    CA    Circle   \n",
       "4        4       12/19/16 21:53     USA     Reymert    AZ    Circle   \n",
       "...    ...                  ...     ...         ...   ...       ...   \n",
       "5172  5172  2016-01-01 00:00:00     USA   Elk Grove    CA     Light   \n",
       "5173  5173  2016-01-01 00:00:00     USA   Anchorage    AK    Circle   \n",
       "5174  5174  2016-01-01 00:00:00     USA   Sodaville    OR    Sphere   \n",
       "5175  5175  2016-01-01 00:00:00     USA      Arnold    MO  Triangle   \n",
       "5176  5176  2016-01-01 00:00:00     USA      Vernon    CT    Sphere   \n",
       "\n",
       "                                                Summary        lat         lng  \n",
       "0                  Bright round object hovering in sky.  38.065229  -78.905888  \n",
       "1     Multiple craft ascending from north of Shelbyv...  38.254238  -85.759407  \n",
       "2     Bright orange planet-like object sighted near ...  38.440467 -122.714431  \n",
       "3         Twelve orange globes in formation over Fresno  36.729529 -119.708861  \n",
       "4     While camping in the Cottonwood canyon Rd., al...  33.229779 -111.209290  \n",
       "...                                                 ...        ...         ...  \n",
       "5172  6-7 peach-colored craft moving easterly direct...  38.408799 -121.371618  \n",
       "5173                          New Years yellow objects.  61.216313 -149.894852  \n",
       "5174  Two balls of orange light seen above the trees...  44.483395 -122.869982  \n",
       "5175  Triangle obj. moving W to SE from my position....  38.432832  -90.377619  \n",
       "5176                             Red sphere in the sky.  36.092946  -80.149628  \n",
       "\n",
       "[5177 rows x 9 columns]"
      ]
     },
     "execution_count": 61,
     "metadata": {},
     "output_type": "execute_result"
    }
   ],
   "source": [
    "df3"
   ]
  },
  {
   "cell_type": "code",
   "execution_count": 63,
   "metadata": {},
   "outputs": [],
   "source": [
    "df3.set_index('num', inplace=True)"
   ]
  },
  {
   "cell_type": "code",
   "execution_count": 64,
   "metadata": {},
   "outputs": [
    {
     "data": {
      "text/html": [
       "<div>\n",
       "<style scoped>\n",
       "    .dataframe tbody tr th:only-of-type {\n",
       "        vertical-align: middle;\n",
       "    }\n",
       "\n",
       "    .dataframe tbody tr th {\n",
       "        vertical-align: top;\n",
       "    }\n",
       "\n",
       "    .dataframe thead th {\n",
       "        text-align: right;\n",
       "    }\n",
       "</style>\n",
       "<table border=\"1\" class=\"dataframe\">\n",
       "  <thead>\n",
       "    <tr style=\"text-align: right;\">\n",
       "      <th></th>\n",
       "      <th>Date</th>\n",
       "      <th>Country</th>\n",
       "      <th>City</th>\n",
       "      <th>State</th>\n",
       "      <th>Shape</th>\n",
       "      <th>Summary</th>\n",
       "      <th>lat</th>\n",
       "      <th>lng</th>\n",
       "    </tr>\n",
       "    <tr>\n",
       "      <th>num</th>\n",
       "      <th></th>\n",
       "      <th></th>\n",
       "      <th></th>\n",
       "      <th></th>\n",
       "      <th></th>\n",
       "      <th></th>\n",
       "      <th></th>\n",
       "      <th></th>\n",
       "    </tr>\n",
       "  </thead>\n",
       "  <tbody>\n",
       "    <tr>\n",
       "      <th>0</th>\n",
       "      <td>12/21/16 19:15</td>\n",
       "      <td>USA</td>\n",
       "      <td>Waynesboro</td>\n",
       "      <td>VA</td>\n",
       "      <td>Sphere</td>\n",
       "      <td>Bright round object hovering in sky.</td>\n",
       "      <td>38.065229</td>\n",
       "      <td>-78.905888</td>\n",
       "    </tr>\n",
       "    <tr>\n",
       "      <th>1</th>\n",
       "      <td>12/21/16 00:00</td>\n",
       "      <td>USA</td>\n",
       "      <td>Louisville</td>\n",
       "      <td>KY</td>\n",
       "      <td>Unknown</td>\n",
       "      <td>Multiple craft ascending from north of Shelbyv...</td>\n",
       "      <td>38.254238</td>\n",
       "      <td>-85.759407</td>\n",
       "    </tr>\n",
       "    <tr>\n",
       "      <th>2</th>\n",
       "      <td>12/20/16 22:30</td>\n",
       "      <td>USA</td>\n",
       "      <td>Santa Rosa</td>\n",
       "      <td>CA</td>\n",
       "      <td>Sphere</td>\n",
       "      <td>Bright orange planet-like object sighted near ...</td>\n",
       "      <td>38.440467</td>\n",
       "      <td>-122.714431</td>\n",
       "    </tr>\n",
       "    <tr>\n",
       "      <th>3</th>\n",
       "      <td>12/20/16 19:00</td>\n",
       "      <td>USA</td>\n",
       "      <td>Fresno</td>\n",
       "      <td>CA</td>\n",
       "      <td>Circle</td>\n",
       "      <td>Twelve orange globes in formation over Fresno</td>\n",
       "      <td>36.729529</td>\n",
       "      <td>-119.708861</td>\n",
       "    </tr>\n",
       "    <tr>\n",
       "      <th>4</th>\n",
       "      <td>12/19/16 21:53</td>\n",
       "      <td>USA</td>\n",
       "      <td>Reymert</td>\n",
       "      <td>AZ</td>\n",
       "      <td>Circle</td>\n",
       "      <td>While camping in the Cottonwood canyon Rd., al...</td>\n",
       "      <td>33.229779</td>\n",
       "      <td>-111.209290</td>\n",
       "    </tr>\n",
       "    <tr>\n",
       "      <th>...</th>\n",
       "      <td>...</td>\n",
       "      <td>...</td>\n",
       "      <td>...</td>\n",
       "      <td>...</td>\n",
       "      <td>...</td>\n",
       "      <td>...</td>\n",
       "      <td>...</td>\n",
       "      <td>...</td>\n",
       "    </tr>\n",
       "    <tr>\n",
       "      <th>5172</th>\n",
       "      <td>2016-01-01 00:00:00</td>\n",
       "      <td>USA</td>\n",
       "      <td>Elk Grove</td>\n",
       "      <td>CA</td>\n",
       "      <td>Light</td>\n",
       "      <td>6-7 peach-colored craft moving easterly direct...</td>\n",
       "      <td>38.408799</td>\n",
       "      <td>-121.371618</td>\n",
       "    </tr>\n",
       "    <tr>\n",
       "      <th>5173</th>\n",
       "      <td>2016-01-01 00:00:00</td>\n",
       "      <td>USA</td>\n",
       "      <td>Anchorage</td>\n",
       "      <td>AK</td>\n",
       "      <td>Circle</td>\n",
       "      <td>New Years yellow objects.</td>\n",
       "      <td>61.216313</td>\n",
       "      <td>-149.894852</td>\n",
       "    </tr>\n",
       "    <tr>\n",
       "      <th>5174</th>\n",
       "      <td>2016-01-01 00:00:00</td>\n",
       "      <td>USA</td>\n",
       "      <td>Sodaville</td>\n",
       "      <td>OR</td>\n",
       "      <td>Sphere</td>\n",
       "      <td>Two balls of orange light seen above the trees...</td>\n",
       "      <td>44.483395</td>\n",
       "      <td>-122.869982</td>\n",
       "    </tr>\n",
       "    <tr>\n",
       "      <th>5175</th>\n",
       "      <td>2016-01-01 00:00:00</td>\n",
       "      <td>USA</td>\n",
       "      <td>Arnold</td>\n",
       "      <td>MO</td>\n",
       "      <td>Triangle</td>\n",
       "      <td>Triangle obj. moving W to SE from my position....</td>\n",
       "      <td>38.432832</td>\n",
       "      <td>-90.377619</td>\n",
       "    </tr>\n",
       "    <tr>\n",
       "      <th>5176</th>\n",
       "      <td>2016-01-01 00:00:00</td>\n",
       "      <td>USA</td>\n",
       "      <td>Vernon</td>\n",
       "      <td>CT</td>\n",
       "      <td>Sphere</td>\n",
       "      <td>Red sphere in the sky.</td>\n",
       "      <td>36.092946</td>\n",
       "      <td>-80.149628</td>\n",
       "    </tr>\n",
       "  </tbody>\n",
       "</table>\n",
       "<p>5177 rows × 8 columns</p>\n",
       "</div>"
      ],
      "text/plain": [
       "                     Date Country        City State     Shape  \\\n",
       "num                                                             \n",
       "0          12/21/16 19:15     USA  Waynesboro    VA    Sphere   \n",
       "1          12/21/16 00:00     USA  Louisville    KY   Unknown   \n",
       "2          12/20/16 22:30     USA  Santa Rosa    CA    Sphere   \n",
       "3          12/20/16 19:00     USA      Fresno    CA    Circle   \n",
       "4          12/19/16 21:53     USA     Reymert    AZ    Circle   \n",
       "...                   ...     ...         ...   ...       ...   \n",
       "5172  2016-01-01 00:00:00     USA   Elk Grove    CA     Light   \n",
       "5173  2016-01-01 00:00:00     USA   Anchorage    AK    Circle   \n",
       "5174  2016-01-01 00:00:00     USA   Sodaville    OR    Sphere   \n",
       "5175  2016-01-01 00:00:00     USA      Arnold    MO  Triangle   \n",
       "5176  2016-01-01 00:00:00     USA      Vernon    CT    Sphere   \n",
       "\n",
       "                                                Summary        lat         lng  \n",
       "num                                                                             \n",
       "0                  Bright round object hovering in sky.  38.065229  -78.905888  \n",
       "1     Multiple craft ascending from north of Shelbyv...  38.254238  -85.759407  \n",
       "2     Bright orange planet-like object sighted near ...  38.440467 -122.714431  \n",
       "3         Twelve orange globes in formation over Fresno  36.729529 -119.708861  \n",
       "4     While camping in the Cottonwood canyon Rd., al...  33.229779 -111.209290  \n",
       "...                                                 ...        ...         ...  \n",
       "5172  6-7 peach-colored craft moving easterly direct...  38.408799 -121.371618  \n",
       "5173                          New Years yellow objects.  61.216313 -149.894852  \n",
       "5174  Two balls of orange light seen above the trees...  44.483395 -122.869982  \n",
       "5175  Triangle obj. moving W to SE from my position....  38.432832  -90.377619  \n",
       "5176                             Red sphere in the sky.  36.092946  -80.149628  \n",
       "\n",
       "[5177 rows x 8 columns]"
      ]
     },
     "execution_count": 64,
     "metadata": {},
     "output_type": "execute_result"
    }
   ],
   "source": [
    "df3"
   ]
  },
  {
   "cell_type": "code",
   "execution_count": 65,
   "metadata": {},
   "outputs": [],
   "source": [
    "df3 = df3.drop('State', axis=1)"
   ]
  },
  {
   "cell_type": "code",
   "execution_count": 66,
   "metadata": {},
   "outputs": [
    {
     "data": {
      "text/html": [
       "<div>\n",
       "<style scoped>\n",
       "    .dataframe tbody tr th:only-of-type {\n",
       "        vertical-align: middle;\n",
       "    }\n",
       "\n",
       "    .dataframe tbody tr th {\n",
       "        vertical-align: top;\n",
       "    }\n",
       "\n",
       "    .dataframe thead th {\n",
       "        text-align: right;\n",
       "    }\n",
       "</style>\n",
       "<table border=\"1\" class=\"dataframe\">\n",
       "  <thead>\n",
       "    <tr style=\"text-align: right;\">\n",
       "      <th></th>\n",
       "      <th>Date</th>\n",
       "      <th>Country</th>\n",
       "      <th>City</th>\n",
       "      <th>Shape</th>\n",
       "      <th>Summary</th>\n",
       "      <th>lat</th>\n",
       "      <th>lng</th>\n",
       "    </tr>\n",
       "    <tr>\n",
       "      <th>num</th>\n",
       "      <th></th>\n",
       "      <th></th>\n",
       "      <th></th>\n",
       "      <th></th>\n",
       "      <th></th>\n",
       "      <th></th>\n",
       "      <th></th>\n",
       "    </tr>\n",
       "  </thead>\n",
       "  <tbody>\n",
       "    <tr>\n",
       "      <th>0</th>\n",
       "      <td>12/21/16 19:15</td>\n",
       "      <td>USA</td>\n",
       "      <td>Waynesboro</td>\n",
       "      <td>Sphere</td>\n",
       "      <td>Bright round object hovering in sky.</td>\n",
       "      <td>38.065229</td>\n",
       "      <td>-78.905888</td>\n",
       "    </tr>\n",
       "    <tr>\n",
       "      <th>1</th>\n",
       "      <td>12/21/16 00:00</td>\n",
       "      <td>USA</td>\n",
       "      <td>Louisville</td>\n",
       "      <td>Unknown</td>\n",
       "      <td>Multiple craft ascending from north of Shelbyv...</td>\n",
       "      <td>38.254238</td>\n",
       "      <td>-85.759407</td>\n",
       "    </tr>\n",
       "    <tr>\n",
       "      <th>2</th>\n",
       "      <td>12/20/16 22:30</td>\n",
       "      <td>USA</td>\n",
       "      <td>Santa Rosa</td>\n",
       "      <td>Sphere</td>\n",
       "      <td>Bright orange planet-like object sighted near ...</td>\n",
       "      <td>38.440467</td>\n",
       "      <td>-122.714431</td>\n",
       "    </tr>\n",
       "    <tr>\n",
       "      <th>3</th>\n",
       "      <td>12/20/16 19:00</td>\n",
       "      <td>USA</td>\n",
       "      <td>Fresno</td>\n",
       "      <td>Circle</td>\n",
       "      <td>Twelve orange globes in formation over Fresno</td>\n",
       "      <td>36.729529</td>\n",
       "      <td>-119.708861</td>\n",
       "    </tr>\n",
       "    <tr>\n",
       "      <th>4</th>\n",
       "      <td>12/19/16 21:53</td>\n",
       "      <td>USA</td>\n",
       "      <td>Reymert</td>\n",
       "      <td>Circle</td>\n",
       "      <td>While camping in the Cottonwood canyon Rd., al...</td>\n",
       "      <td>33.229779</td>\n",
       "      <td>-111.209290</td>\n",
       "    </tr>\n",
       "    <tr>\n",
       "      <th>...</th>\n",
       "      <td>...</td>\n",
       "      <td>...</td>\n",
       "      <td>...</td>\n",
       "      <td>...</td>\n",
       "      <td>...</td>\n",
       "      <td>...</td>\n",
       "      <td>...</td>\n",
       "    </tr>\n",
       "    <tr>\n",
       "      <th>5172</th>\n",
       "      <td>2016-01-01 00:00:00</td>\n",
       "      <td>USA</td>\n",
       "      <td>Elk Grove</td>\n",
       "      <td>Light</td>\n",
       "      <td>6-7 peach-colored craft moving easterly direct...</td>\n",
       "      <td>38.408799</td>\n",
       "      <td>-121.371618</td>\n",
       "    </tr>\n",
       "    <tr>\n",
       "      <th>5173</th>\n",
       "      <td>2016-01-01 00:00:00</td>\n",
       "      <td>USA</td>\n",
       "      <td>Anchorage</td>\n",
       "      <td>Circle</td>\n",
       "      <td>New Years yellow objects.</td>\n",
       "      <td>61.216313</td>\n",
       "      <td>-149.894852</td>\n",
       "    </tr>\n",
       "    <tr>\n",
       "      <th>5174</th>\n",
       "      <td>2016-01-01 00:00:00</td>\n",
       "      <td>USA</td>\n",
       "      <td>Sodaville</td>\n",
       "      <td>Sphere</td>\n",
       "      <td>Two balls of orange light seen above the trees...</td>\n",
       "      <td>44.483395</td>\n",
       "      <td>-122.869982</td>\n",
       "    </tr>\n",
       "    <tr>\n",
       "      <th>5175</th>\n",
       "      <td>2016-01-01 00:00:00</td>\n",
       "      <td>USA</td>\n",
       "      <td>Arnold</td>\n",
       "      <td>Triangle</td>\n",
       "      <td>Triangle obj. moving W to SE from my position....</td>\n",
       "      <td>38.432832</td>\n",
       "      <td>-90.377619</td>\n",
       "    </tr>\n",
       "    <tr>\n",
       "      <th>5176</th>\n",
       "      <td>2016-01-01 00:00:00</td>\n",
       "      <td>USA</td>\n",
       "      <td>Vernon</td>\n",
       "      <td>Sphere</td>\n",
       "      <td>Red sphere in the sky.</td>\n",
       "      <td>36.092946</td>\n",
       "      <td>-80.149628</td>\n",
       "    </tr>\n",
       "  </tbody>\n",
       "</table>\n",
       "<p>5177 rows × 7 columns</p>\n",
       "</div>"
      ],
      "text/plain": [
       "                     Date Country        City     Shape  \\\n",
       "num                                                       \n",
       "0          12/21/16 19:15     USA  Waynesboro    Sphere   \n",
       "1          12/21/16 00:00     USA  Louisville   Unknown   \n",
       "2          12/20/16 22:30     USA  Santa Rosa    Sphere   \n",
       "3          12/20/16 19:00     USA      Fresno    Circle   \n",
       "4          12/19/16 21:53     USA     Reymert    Circle   \n",
       "...                   ...     ...         ...       ...   \n",
       "5172  2016-01-01 00:00:00     USA   Elk Grove     Light   \n",
       "5173  2016-01-01 00:00:00     USA   Anchorage    Circle   \n",
       "5174  2016-01-01 00:00:00     USA   Sodaville    Sphere   \n",
       "5175  2016-01-01 00:00:00     USA      Arnold  Triangle   \n",
       "5176  2016-01-01 00:00:00     USA      Vernon    Sphere   \n",
       "\n",
       "                                                Summary        lat         lng  \n",
       "num                                                                             \n",
       "0                  Bright round object hovering in sky.  38.065229  -78.905888  \n",
       "1     Multiple craft ascending from north of Shelbyv...  38.254238  -85.759407  \n",
       "2     Bright orange planet-like object sighted near ...  38.440467 -122.714431  \n",
       "3         Twelve orange globes in formation over Fresno  36.729529 -119.708861  \n",
       "4     While camping in the Cottonwood canyon Rd., al...  33.229779 -111.209290  \n",
       "...                                                 ...        ...         ...  \n",
       "5172  6-7 peach-colored craft moving easterly direct...  38.408799 -121.371618  \n",
       "5173                          New Years yellow objects.  61.216313 -149.894852  \n",
       "5174  Two balls of orange light seen above the trees...  44.483395 -122.869982  \n",
       "5175  Triangle obj. moving W to SE from my position....  38.432832  -90.377619  \n",
       "5176                             Red sphere in the sky.  36.092946  -80.149628  \n",
       "\n",
       "[5177 rows x 7 columns]"
      ]
     },
     "execution_count": 66,
     "metadata": {},
     "output_type": "execute_result"
    }
   ],
   "source": [
    "df3"
   ]
  },
  {
   "cell_type": "code",
   "execution_count": 68,
   "metadata": {},
   "outputs": [],
   "source": [
    "filt = (df3['Country'] == 'USA') | (df3['Shape'] == 'Sphere')"
   ]
  },
  {
   "cell_type": "code",
   "execution_count": 69,
   "metadata": {},
   "outputs": [
    {
     "data": {
      "text/plain": [
       "num\n",
       "0       Waynesboro\n",
       "1       Louisville\n",
       "2       Santa Rosa\n",
       "3           Fresno\n",
       "4          Reymert\n",
       "           ...    \n",
       "5172     Elk Grove\n",
       "5173     Anchorage\n",
       "5174     Sodaville\n",
       "5175        Arnold\n",
       "5176        Vernon\n",
       "Name: City, Length: 5038, dtype: object"
      ]
     },
     "execution_count": 69,
     "metadata": {},
     "output_type": "execute_result"
    }
   ],
   "source": [
    "df3.loc[filt, 'City']"
   ]
  },
  {
   "cell_type": "code",
   "execution_count": 71,
   "metadata": {},
   "outputs": [
    {
     "data": {
      "text/plain": [
       "Index(['Date', 'Country', 'City', 'Shape', 'Summary', 'lat', 'lng'], dtype='object')"
      ]
     },
     "execution_count": 71,
     "metadata": {},
     "output_type": "execute_result"
    }
   ],
   "source": [
    "df3.columns"
   ]
  },
  {
   "cell_type": "code",
   "execution_count": 73,
   "metadata": {},
   "outputs": [],
   "source": []
  },
  {
   "cell_type": "code",
   "execution_count": 75,
   "metadata": {},
   "outputs": [
    {
     "data": {
      "text/plain": [
       "'12/19/16 21:53'"
      ]
     },
     "execution_count": 75,
     "metadata": {},
     "output_type": "execute_result"
    }
   ],
   "source": [
    "df3.loc[4, 'date']"
   ]
  },
  {
   "cell_type": "code",
   "execution_count": 76,
   "metadata": {},
   "outputs": [
    {
     "data": {
      "text/html": [
       "<div>\n",
       "<style scoped>\n",
       "    .dataframe tbody tr th:only-of-type {\n",
       "        vertical-align: middle;\n",
       "    }\n",
       "\n",
       "    .dataframe tbody tr th {\n",
       "        vertical-align: top;\n",
       "    }\n",
       "\n",
       "    .dataframe thead th {\n",
       "        text-align: right;\n",
       "    }\n",
       "</style>\n",
       "<table border=\"1\" class=\"dataframe\">\n",
       "  <thead>\n",
       "    <tr style=\"text-align: right;\">\n",
       "      <th></th>\n",
       "      <th>date</th>\n",
       "      <th>country</th>\n",
       "      <th>city</th>\n",
       "      <th>shape</th>\n",
       "      <th>summary</th>\n",
       "      <th>lat</th>\n",
       "      <th>lng</th>\n",
       "    </tr>\n",
       "    <tr>\n",
       "      <th>num</th>\n",
       "      <th></th>\n",
       "      <th></th>\n",
       "      <th></th>\n",
       "      <th></th>\n",
       "      <th></th>\n",
       "      <th></th>\n",
       "      <th></th>\n",
       "    </tr>\n",
       "  </thead>\n",
       "  <tbody>\n",
       "    <tr>\n",
       "      <th>0</th>\n",
       "      <td>12/21/16 19:15</td>\n",
       "      <td>USA</td>\n",
       "      <td>Waynesboro</td>\n",
       "      <td>Sphere</td>\n",
       "      <td>Bright round object hovering in sky.</td>\n",
       "      <td>38.065229</td>\n",
       "      <td>-78.905888</td>\n",
       "    </tr>\n",
       "    <tr>\n",
       "      <th>1</th>\n",
       "      <td>12/21/16 00:00</td>\n",
       "      <td>USA</td>\n",
       "      <td>Louisville</td>\n",
       "      <td>Unknown</td>\n",
       "      <td>Multiple craft ascending from north of Shelbyv...</td>\n",
       "      <td>38.254238</td>\n",
       "      <td>-85.759407</td>\n",
       "    </tr>\n",
       "    <tr>\n",
       "      <th>2</th>\n",
       "      <td>12/20/16 22:30</td>\n",
       "      <td>USA</td>\n",
       "      <td>Santa Rosa</td>\n",
       "      <td>Sphere</td>\n",
       "      <td>Bright orange planet-like object sighted near ...</td>\n",
       "      <td>38.440467</td>\n",
       "      <td>-122.714431</td>\n",
       "    </tr>\n",
       "    <tr>\n",
       "      <th>3</th>\n",
       "      <td>12/20/16 19:00</td>\n",
       "      <td>USA</td>\n",
       "      <td>Fresno</td>\n",
       "      <td>Circle</td>\n",
       "      <td>Twelve orange globes in formation over Fresno</td>\n",
       "      <td>36.729529</td>\n",
       "      <td>-119.708861</td>\n",
       "    </tr>\n",
       "    <tr>\n",
       "      <th>4</th>\n",
       "      <td>12/19/16 21:53</td>\n",
       "      <td>USA</td>\n",
       "      <td>Reymert</td>\n",
       "      <td>Circle</td>\n",
       "      <td>While camping in the Cottonwood canyon Rd., al...</td>\n",
       "      <td>33.229779</td>\n",
       "      <td>-111.209290</td>\n",
       "    </tr>\n",
       "    <tr>\n",
       "      <th>...</th>\n",
       "      <td>...</td>\n",
       "      <td>...</td>\n",
       "      <td>...</td>\n",
       "      <td>...</td>\n",
       "      <td>...</td>\n",
       "      <td>...</td>\n",
       "      <td>...</td>\n",
       "    </tr>\n",
       "    <tr>\n",
       "      <th>5172</th>\n",
       "      <td>2016-01-01 00:00:00</td>\n",
       "      <td>USA</td>\n",
       "      <td>Elk Grove</td>\n",
       "      <td>Light</td>\n",
       "      <td>6-7 peach-colored craft moving easterly direct...</td>\n",
       "      <td>38.408799</td>\n",
       "      <td>-121.371618</td>\n",
       "    </tr>\n",
       "    <tr>\n",
       "      <th>5173</th>\n",
       "      <td>2016-01-01 00:00:00</td>\n",
       "      <td>USA</td>\n",
       "      <td>Anchorage</td>\n",
       "      <td>Circle</td>\n",
       "      <td>New Years yellow objects.</td>\n",
       "      <td>61.216313</td>\n",
       "      <td>-149.894852</td>\n",
       "    </tr>\n",
       "    <tr>\n",
       "      <th>5174</th>\n",
       "      <td>2016-01-01 00:00:00</td>\n",
       "      <td>USA</td>\n",
       "      <td>Sodaville</td>\n",
       "      <td>Sphere</td>\n",
       "      <td>Two balls of orange light seen above the trees...</td>\n",
       "      <td>44.483395</td>\n",
       "      <td>-122.869982</td>\n",
       "    </tr>\n",
       "    <tr>\n",
       "      <th>5175</th>\n",
       "      <td>2016-01-01 00:00:00</td>\n",
       "      <td>USA</td>\n",
       "      <td>Arnold</td>\n",
       "      <td>Triangle</td>\n",
       "      <td>Triangle obj. moving W to SE from my position....</td>\n",
       "      <td>38.432832</td>\n",
       "      <td>-90.377619</td>\n",
       "    </tr>\n",
       "    <tr>\n",
       "      <th>5176</th>\n",
       "      <td>2016-01-01 00:00:00</td>\n",
       "      <td>USA</td>\n",
       "      <td>Vernon</td>\n",
       "      <td>Sphere</td>\n",
       "      <td>Red sphere in the sky.</td>\n",
       "      <td>36.092946</td>\n",
       "      <td>-80.149628</td>\n",
       "    </tr>\n",
       "  </tbody>\n",
       "</table>\n",
       "<p>5177 rows × 7 columns</p>\n",
       "</div>"
      ],
      "text/plain": [
       "                     date country        city     shape  \\\n",
       "num                                                       \n",
       "0          12/21/16 19:15     USA  Waynesboro    Sphere   \n",
       "1          12/21/16 00:00     USA  Louisville   Unknown   \n",
       "2          12/20/16 22:30     USA  Santa Rosa    Sphere   \n",
       "3          12/20/16 19:00     USA      Fresno    Circle   \n",
       "4          12/19/16 21:53     USA     Reymert    Circle   \n",
       "...                   ...     ...         ...       ...   \n",
       "5172  2016-01-01 00:00:00     USA   Elk Grove     Light   \n",
       "5173  2016-01-01 00:00:00     USA   Anchorage    Circle   \n",
       "5174  2016-01-01 00:00:00     USA   Sodaville    Sphere   \n",
       "5175  2016-01-01 00:00:00     USA      Arnold  Triangle   \n",
       "5176  2016-01-01 00:00:00     USA      Vernon    Sphere   \n",
       "\n",
       "                                                summary        lat         lng  \n",
       "num                                                                             \n",
       "0                  Bright round object hovering in sky.  38.065229  -78.905888  \n",
       "1     Multiple craft ascending from north of Shelbyv...  38.254238  -85.759407  \n",
       "2     Bright orange planet-like object sighted near ...  38.440467 -122.714431  \n",
       "3         Twelve orange globes in formation over Fresno  36.729529 -119.708861  \n",
       "4     While camping in the Cottonwood canyon Rd., al...  33.229779 -111.209290  \n",
       "...                                                 ...        ...         ...  \n",
       "5172  6-7 peach-colored craft moving easterly direct...  38.408799 -121.371618  \n",
       "5173                          New Years yellow objects.  61.216313 -149.894852  \n",
       "5174  Two balls of orange light seen above the trees...  44.483395 -122.869982  \n",
       "5175  Triangle obj. moving W to SE from my position....  38.432832  -90.377619  \n",
       "5176                             Red sphere in the sky.  36.092946  -80.149628  \n",
       "\n",
       "[5177 rows x 7 columns]"
      ]
     },
     "execution_count": 76,
     "metadata": {},
     "output_type": "execute_result"
    }
   ],
   "source": [
    "df3"
   ]
  },
  {
   "cell_type": "code",
   "execution_count": 87,
   "metadata": {},
   "outputs": [
    {
     "data": {
      "text/html": [
       "<div>\n",
       "<style scoped>\n",
       "    .dataframe tbody tr th:only-of-type {\n",
       "        vertical-align: middle;\n",
       "    }\n",
       "\n",
       "    .dataframe tbody tr th {\n",
       "        vertical-align: top;\n",
       "    }\n",
       "\n",
       "    .dataframe thead th {\n",
       "        text-align: right;\n",
       "    }\n",
       "</style>\n",
       "<table border=\"1\" class=\"dataframe\">\n",
       "  <thead>\n",
       "    <tr style=\"text-align: right;\">\n",
       "      <th></th>\n",
       "      <th>count</th>\n",
       "      <th>mean</th>\n",
       "      <th>std</th>\n",
       "      <th>min</th>\n",
       "      <th>25%</th>\n",
       "      <th>50%</th>\n",
       "      <th>75%</th>\n",
       "      <th>max</th>\n",
       "    </tr>\n",
       "    <tr>\n",
       "      <th>country</th>\n",
       "      <th></th>\n",
       "      <th></th>\n",
       "      <th></th>\n",
       "      <th></th>\n",
       "      <th></th>\n",
       "      <th></th>\n",
       "      <th></th>\n",
       "      <th></th>\n",
       "    </tr>\n",
       "  </thead>\n",
       "  <tbody>\n",
       "    <tr>\n",
       "      <th>CANADA</th>\n",
       "      <td>150.0</td>\n",
       "      <td>47.922159</td>\n",
       "      <td>4.355927</td>\n",
       "      <td>42.248762</td>\n",
       "      <td>43.917276</td>\n",
       "      <td>46.310924</td>\n",
       "      <td>50.931708</td>\n",
       "      <td>63.592691</td>\n",
       "    </tr>\n",
       "    <tr>\n",
       "      <th>USA</th>\n",
       "      <td>5027.0</td>\n",
       "      <td>38.316631</td>\n",
       "      <td>5.604472</td>\n",
       "      <td>19.062767</td>\n",
       "      <td>34.160881</td>\n",
       "      <td>38.890396</td>\n",
       "      <td>41.992045</td>\n",
       "      <td>66.898206</td>\n",
       "    </tr>\n",
       "  </tbody>\n",
       "</table>\n",
       "</div>"
      ],
      "text/plain": [
       "          count       mean       std        min        25%        50%  \\\n",
       "country                                                                 \n",
       "CANADA    150.0  47.922159  4.355927  42.248762  43.917276  46.310924   \n",
       "USA      5027.0  38.316631  5.604472  19.062767  34.160881  38.890396   \n",
       "\n",
       "               75%        max  \n",
       "country                        \n",
       "CANADA   50.931708  63.592691  \n",
       "USA      41.992045  66.898206  "
      ]
     },
     "execution_count": 87,
     "metadata": {},
     "output_type": "execute_result"
    }
   ],
   "source": [
    "df3.groupby(df3.country)['lat'].describe()\n"
   ]
  },
  {
   "cell_type": "code",
   "execution_count": 92,
   "metadata": {},
   "outputs": [],
   "source": [
    "df = pd.DataFrame([[9, 25]]*3, columns = ['p','q'])"
   ]
  },
  {
   "cell_type": "code",
   "execution_count": 93,
   "metadata": {},
   "outputs": [
    {
     "data": {
      "text/html": [
       "<div>\n",
       "<style scoped>\n",
       "    .dataframe tbody tr th:only-of-type {\n",
       "        vertical-align: middle;\n",
       "    }\n",
       "\n",
       "    .dataframe tbody tr th {\n",
       "        vertical-align: top;\n",
       "    }\n",
       "\n",
       "    .dataframe thead th {\n",
       "        text-align: right;\n",
       "    }\n",
       "</style>\n",
       "<table border=\"1\" class=\"dataframe\">\n",
       "  <thead>\n",
       "    <tr style=\"text-align: right;\">\n",
       "      <th></th>\n",
       "      <th>p</th>\n",
       "      <th>q</th>\n",
       "    </tr>\n",
       "  </thead>\n",
       "  <tbody>\n",
       "    <tr>\n",
       "      <th>0</th>\n",
       "      <td>9</td>\n",
       "      <td>25</td>\n",
       "    </tr>\n",
       "    <tr>\n",
       "      <th>1</th>\n",
       "      <td>9</td>\n",
       "      <td>25</td>\n",
       "    </tr>\n",
       "    <tr>\n",
       "      <th>2</th>\n",
       "      <td>9</td>\n",
       "      <td>25</td>\n",
       "    </tr>\n",
       "  </tbody>\n",
       "</table>\n",
       "</div>"
      ],
      "text/plain": [
       "   p   q\n",
       "0  9  25\n",
       "1  9  25\n",
       "2  9  25"
      ]
     },
     "execution_count": 93,
     "metadata": {},
     "output_type": "execute_result"
    }
   ],
   "source": [
    "df"
   ]
  },
  {
   "cell_type": "code",
   "execution_count": 97,
   "metadata": {},
   "outputs": [
    {
     "data": {
      "text/html": [
       "<div>\n",
       "<style scoped>\n",
       "    .dataframe tbody tr th:only-of-type {\n",
       "        vertical-align: middle;\n",
       "    }\n",
       "\n",
       "    .dataframe tbody tr th {\n",
       "        vertical-align: top;\n",
       "    }\n",
       "\n",
       "    .dataframe thead th {\n",
       "        text-align: right;\n",
       "    }\n",
       "</style>\n",
       "<table border=\"1\" class=\"dataframe\">\n",
       "  <thead>\n",
       "    <tr style=\"text-align: right;\">\n",
       "      <th></th>\n",
       "      <th>p</th>\n",
       "      <th>q</th>\n",
       "    </tr>\n",
       "  </thead>\n",
       "  <tbody>\n",
       "    <tr>\n",
       "      <th>0</th>\n",
       "      <td>3.0</td>\n",
       "      <td>5.0</td>\n",
       "    </tr>\n",
       "    <tr>\n",
       "      <th>1</th>\n",
       "      <td>3.0</td>\n",
       "      <td>5.0</td>\n",
       "    </tr>\n",
       "    <tr>\n",
       "      <th>2</th>\n",
       "      <td>3.0</td>\n",
       "      <td>5.0</td>\n",
       "    </tr>\n",
       "  </tbody>\n",
       "</table>\n",
       "</div>"
      ],
      "text/plain": [
       "     p    q\n",
       "0  3.0  5.0\n",
       "1  3.0  5.0\n",
       "2  3.0  5.0"
      ]
     },
     "execution_count": 97,
     "metadata": {},
     "output_type": "execute_result"
    }
   ],
   "source": [
    "import numpy as np\n",
    "df.apply(np.sqrt)\n"
   ]
  },
  {
   "cell_type": "code",
   "execution_count": 98,
   "metadata": {},
   "outputs": [
    {
     "data": {
      "text/plain": [
       "p    27\n",
       "q    75\n",
       "dtype: int64"
      ]
     },
     "execution_count": 98,
     "metadata": {},
     "output_type": "execute_result"
    }
   ],
   "source": [
    "df.apply(np.sum, axis = 0)\n"
   ]
  },
  {
   "cell_type": "code",
   "execution_count": 99,
   "metadata": {},
   "outputs": [
    {
     "data": {
      "text/plain": [
       "0    34\n",
       "1    34\n",
       "2    34\n",
       "dtype: int64"
      ]
     },
     "execution_count": 99,
     "metadata": {},
     "output_type": "execute_result"
    }
   ],
   "source": [
    "df.apply(np.sum, axis = 1)"
   ]
  },
  {
   "cell_type": "code",
   "execution_count": 101,
   "metadata": {},
   "outputs": [
    {
     "ename": "AttributeError",
     "evalue": "module 'pandas' has no attribute 'series'",
     "output_type": "error",
     "traceback": [
      "\u001b[0;31m---------------------------------------------------------------------------\u001b[0m",
      "\u001b[0;31mAttributeError\u001b[0m                            Traceback (most recent call last)",
      "\u001b[0;32m<ipython-input-101-42eb10c04851>\u001b[0m in \u001b[0;36m<module>\u001b[0;34m\u001b[0m\n\u001b[1;32m      1\u001b[0m \u001b[0;32mimport\u001b[0m \u001b[0mpandas\u001b[0m \u001b[0;32mas\u001b[0m \u001b[0mpd\u001b[0m\u001b[0;34m\u001b[0m\u001b[0;34m\u001b[0m\u001b[0m\n\u001b[1;32m      2\u001b[0m \u001b[0mgfg_string\u001b[0m \u001b[0;34m=\u001b[0m \u001b[0;34m\"santoshreddy\"\u001b[0m\u001b[0;34m\u001b[0m\u001b[0;34m\u001b[0m\u001b[0m\n\u001b[0;32m----> 3\u001b[0;31m \u001b[0mgfg_list\u001b[0m \u001b[0;34m=\u001b[0m \u001b[0;36m5\u001b[0m \u001b[0;34m*\u001b[0m \u001b[0;34m[\u001b[0m\u001b[0mpd\u001b[0m\u001b[0;34m.\u001b[0m\u001b[0mseries\u001b[0m\u001b[0;34m(\u001b[0m\u001b[0mlist\u001b[0m\u001b[0;34m(\u001b[0m\u001b[0mgfg_string\u001b[0m\u001b[0;34m)\u001b[0m\u001b[0;34m)\u001b[0m\u001b[0;34m]\u001b[0m\u001b[0;34m\u001b[0m\u001b[0;34m\u001b[0m\u001b[0m\n\u001b[0m",
      "\u001b[0;32m~/.local/lib/python3.8/site-packages/pandas/__init__.py\u001b[0m in \u001b[0;36m__getattr__\u001b[0;34m(name)\u001b[0m\n\u001b[1;32m    256\u001b[0m             \u001b[0;32mreturn\u001b[0m \u001b[0m_SparseArray\u001b[0m\u001b[0;34m\u001b[0m\u001b[0;34m\u001b[0m\u001b[0m\n\u001b[1;32m    257\u001b[0m \u001b[0;34m\u001b[0m\u001b[0m\n\u001b[0;32m--> 258\u001b[0;31m         \u001b[0;32mraise\u001b[0m \u001b[0mAttributeError\u001b[0m\u001b[0;34m(\u001b[0m\u001b[0;34mf\"module 'pandas' has no attribute '{name}'\"\u001b[0m\u001b[0;34m)\u001b[0m\u001b[0;34m\u001b[0m\u001b[0;34m\u001b[0m\u001b[0m\n\u001b[0m\u001b[1;32m    259\u001b[0m \u001b[0;34m\u001b[0m\u001b[0m\n\u001b[1;32m    260\u001b[0m \u001b[0;34m\u001b[0m\u001b[0m\n",
      "\u001b[0;31mAttributeError\u001b[0m: module 'pandas' has no attribute 'series'"
     ]
    }
   ],
   "source": [
    "import pandas as pd\n",
    "gfg_string = \"santoshreddy\"\n",
    "gfg_list = 5 * [pd.series(list(gfg_string))]"
   ]
  },
  {
   "cell_type": "code",
   "execution_count": null,
   "metadata": {},
   "outputs": [],
   "source": []
  },
  {
   "cell_type": "code",
   "execution_count": null,
   "metadata": {},
   "outputs": [],
   "source": [
    "\n"
   ]
  },
  {
   "cell_type": "code",
   "execution_count": null,
   "metadata": {},
   "outputs": [],
   "source": []
  },
  {
   "cell_type": "code",
   "execution_count": null,
   "metadata": {},
   "outputs": [],
   "source": []
  },
  {
   "cell_type": "code",
   "execution_count": null,
   "metadata": {},
   "outputs": [],
   "source": []
  },
  {
   "cell_type": "code",
   "execution_count": null,
   "metadata": {},
   "outputs": [],
   "source": []
  },
  {
   "cell_type": "code",
   "execution_count": null,
   "metadata": {},
   "outputs": [],
   "source": []
  },
  {
   "cell_type": "code",
   "execution_count": null,
   "metadata": {},
   "outputs": [],
   "source": []
  },
  {
   "cell_type": "code",
   "execution_count": null,
   "metadata": {},
   "outputs": [],
   "source": []
  },
  {
   "cell_type": "code",
   "execution_count": null,
   "metadata": {},
   "outputs": [],
   "source": []
  },
  {
   "cell_type": "code",
   "execution_count": null,
   "metadata": {},
   "outputs": [],
   "source": []
  },
  {
   "cell_type": "code",
   "execution_count": null,
   "metadata": {},
   "outputs": [],
   "source": []
  },
  {
   "cell_type": "code",
   "execution_count": null,
   "metadata": {},
   "outputs": [],
   "source": []
  },
  {
   "cell_type": "code",
   "execution_count": null,
   "metadata": {},
   "outputs": [],
   "source": []
  },
  {
   "cell_type": "code",
   "execution_count": null,
   "metadata": {},
   "outputs": [],
   "source": [
    "with open(\"sample.json\", 'w') as sample1:\n",
    "    json.dump(people, sample1)\n",
    "    \n",
    "    "
   ]
  },
  {
   "cell_type": "code",
   "execution_count": null,
   "metadata": {},
   "outputs": [],
   "source": []
  },
  {
   "cell_type": "code",
   "execution_count": null,
   "metadata": {},
   "outputs": [],
   "source": [
    "import pandas as pd\n",
    "df = pd.read_json('sample.json')\n"
   ]
  },
  {
   "cell_type": "code",
   "execution_count": null,
   "metadata": {},
   "outputs": [],
   "source": [
    "df"
   ]
  },
  {
   "cell_type": "code",
   "execution_count": null,
   "metadata": {},
   "outputs": [],
   "source": [
    "dogs_dict = { 'Ozzy': 3, 'Filou': 8, 'Luna': 5, 'Skippy': 10, 'Barco': 12, 'Balou': 9, 'Laika': 16 }\n"
   ]
  },
  {
   "cell_type": "code",
   "execution_count": null,
   "metadata": {},
   "outputs": [],
   "source": [
    "dogs_dict "
   ]
  },
  {
   "cell_type": "code",
   "execution_count": null,
   "metadata": {},
   "outputs": [],
   "source": [
    "import pickle"
   ]
  },
  {
   "cell_type": "code",
   "execution_count": null,
   "metadata": {},
   "outputs": [],
   "source": [
    "file = 'dogs.csv'\n",
    "out = open(\"dogs.csv\", 'wb')\n",
    "pickle.dump(dogs_dict, file)"
   ]
  },
  {
   "cell_type": "code",
   "execution_count": null,
   "metadata": {},
   "outputs": [],
   "source": [
    "import json\n",
    "import pandas as pd\n",
    "new = {\n",
    "    'name' : ['santosh', 'santosh1', 'mouli','ratnavathi', 'reddygaru'],\n",
    "    'place' : ['rekhapalli', 'bhayyaram', 'rekhapalli', 'anaparthi', 'rehapalli'],\n",
    "    'gender' : ['25', '30', '24', '43', '53']\n",
    "}\n",
    "\n"
   ]
  },
  {
   "cell_type": "code",
   "execution_count": null,
   "metadata": {},
   "outputs": [],
   "source": [
    "new"
   ]
  },
  {
   "cell_type": "code",
   "execution_count": null,
   "metadata": {},
   "outputs": [],
   "source": []
  },
  {
   "cell_type": "code",
   "execution_count": null,
   "metadata": {},
   "outputs": [],
   "source": [
    "import json\n",
    "import pandas as pd\n",
    "new = {\n",
    "    'name' : ['santosh', 'santosh1', 'mouli','ratnavathi', 'reddygaru'],\n",
    "    'place' : ['rekhapalli', 'bhayyaram', 'rekhapalli', 'anaparthi', 'rehapalli'],\n",
    "    'gender' : ['25', '30', '24', '43', '53']\n",
    "}"
   ]
  },
  {
   "cell_type": "code",
   "execution_count": null,
   "metadata": {},
   "outputs": [],
   "source": []
  },
  {
   "cell_type": "code",
   "execution_count": null,
   "metadata": {},
   "outputs": [],
   "source": []
  },
  {
   "cell_type": "code",
   "execution_count": null,
   "metadata": {},
   "outputs": [],
   "source": [
    "import json\n",
    "with open('data.json', 'w') as read_file:\n",
    "    d = json.dump(new, read_file)\n",
    "    \n",
    "    \n",
    "\n",
    "    "
   ]
  },
  {
   "cell_type": "code",
   "execution_count": null,
   "metadata": {},
   "outputs": [],
   "source": [
    "import pandas as pd"
   ]
  },
  {
   "cell_type": "code",
   "execution_count": null,
   "metadata": {},
   "outputs": [],
   "source": [
    "pd.read_fwf('animelist.csv')"
   ]
  },
  {
   "cell_type": "raw",
   "metadata": {},
   "source": []
  },
  {
   "cell_type": "code",
   "execution_count": null,
   "metadata": {},
   "outputs": [],
   "source": [
    "original_df = pd.DataFrame({\"foo\": range(5), \"bar\": range(5, 10)})"
   ]
  },
  {
   "cell_type": "code",
   "execution_count": null,
   "metadata": {},
   "outputs": [],
   "source": [
    "original_df"
   ]
  },
  {
   "cell_type": "code",
   "execution_count": null,
   "metadata": {},
   "outputs": [],
   "source": [
    "pd.to_pickle(original_df, './dummy.pk1')"
   ]
  },
  {
   "cell_type": "code",
   "execution_count": null,
   "metadata": {},
   "outputs": [],
   "source": [
    "unpickled_df = pd.read_pickle('./dummy.pk1')"
   ]
  },
  {
   "cell_type": "code",
   "execution_count": null,
   "metadata": {},
   "outputs": [],
   "source": [
    "unpickled_df"
   ]
  },
  {
   "cell_type": "code",
   "execution_count": null,
   "metadata": {},
   "outputs": [],
   "source": [
    "import os"
   ]
  },
  {
   "cell_type": "code",
   "execution_count": null,
   "metadata": {},
   "outputs": [],
   "source": [
    "os.remove('./dummy.pk1')\n"
   ]
  },
  {
   "cell_type": "code",
   "execution_count": null,
   "metadata": {},
   "outputs": [],
   "source": [
    "import pandas as pd\n",
    "pd.set_option('display.max_rows', 500)\n",
    "pd.set_option('display.max_columns', 500)\n",
    "pd.set_option('display.width', 1000)"
   ]
  },
  {
   "cell_type": "code",
   "execution_count": null,
   "metadata": {},
   "outputs": [],
   "source": [
    "df = pd.read_csv('titanic_train.csv')"
   ]
  },
  {
   "cell_type": "code",
   "execution_count": null,
   "metadata": {},
   "outputs": [],
   "source": [
    "df"
   ]
  },
  {
   "cell_type": "code",
   "execution_count": null,
   "metadata": {},
   "outputs": [],
   "source": [
    "df.head(10)"
   ]
  },
  {
   "cell_type": "code",
   "execution_count": null,
   "metadata": {},
   "outputs": [],
   "source": []
  },
  {
   "cell_type": "code",
   "execution_count": null,
   "metadata": {},
   "outputs": [],
   "source": []
  },
  {
   "cell_type": "code",
   "execution_count": null,
   "metadata": {},
   "outputs": [],
   "source": [
    "df.shape"
   ]
  },
  {
   "cell_type": "code",
   "execution_count": null,
   "metadata": {},
   "outputs": [],
   "source": [
    "pd"
   ]
  },
  {
   "cell_type": "code",
   "execution_count": null,
   "metadata": {},
   "outputs": [],
   "source": [
    "import pandas as pd\n",
    "pd.set_option('display.max_columns', 85)\n",
    "pd.set_option('display.max_rows', 99)\n",
    "df = pd.read_csv(\"survey.csv\", index_col='Respondent')\n",
    "schema = pd.read_csv('schema.csv')"
   ]
  },
  {
   "cell_type": "code",
   "execution_count": null,
   "metadata": {},
   "outputs": [],
   "source": [
    "df.head(20)"
   ]
  },
  {
   "cell_type": "code",
   "execution_count": null,
   "metadata": {},
   "outputs": [],
   "source": [
    "df.shape"
   ]
  },
  {
   "cell_type": "code",
   "execution_count": null,
   "metadata": {},
   "outputs": [],
   "source": [
    "df.columns"
   ]
  },
  {
   "cell_type": "code",
   "execution_count": null,
   "metadata": {},
   "outputs": [],
   "source": [
    "type(df)"
   ]
  },
  {
   "cell_type": "code",
   "execution_count": null,
   "metadata": {},
   "outputs": [],
   "source": [
    "df.reset_index(inplace=True)"
   ]
  },
  {
   "cell_type": "raw",
   "metadata": {},
   "source": []
  },
  {
   "cell_type": "code",
   "execution_count": null,
   "metadata": {},
   "outputs": [],
   "source": [
    "df['Respondent']"
   ]
  },
  {
   "cell_type": "code",
   "execution_count": null,
   "metadata": {},
   "outputs": [],
   "source": [
    "df.loc[0:8, 'Professional' : 'Country']"
   ]
  },
  {
   "cell_type": "code",
   "execution_count": null,
   "metadata": {},
   "outputs": [],
   "source": [
    "import numpy as np\n",
    "limi = np.random.randint(0,29, size = (5,4))\n",
    "limi"
   ]
  },
  {
   "cell_type": "code",
   "execution_count": null,
   "metadata": {},
   "outputs": [],
   "source": [
    "limi"
   ]
  },
  {
   "cell_type": "code",
   "execution_count": null,
   "metadata": {},
   "outputs": [],
   "source": [
    "limi[1:4 , 1:3]"
   ]
  },
  {
   "cell_type": "code",
   "execution_count": null,
   "metadata": {},
   "outputs": [],
   "source": [
    "pd.set_option(\"display.max_rows\", None, \"display.max_columns\", None)\n",
    "schema"
   ]
  },
  {
   "cell_type": "markdown",
   "metadata": {},
   "source": []
  },
  {
   "cell_type": "code",
   "execution_count": null,
   "metadata": {},
   "outputs": [],
   "source": [
    "mydict = [{'a': 1, 'b': 2, 'c': 3, 'd': 4},\n",
    "           {'a': 100, 'b': 200, 'c': 300, 'd': 400},\n",
    "           {'a': 1000, 'b': 2000, 'c': 3000, 'd': 4000 }]"
   ]
  },
  {
   "cell_type": "code",
   "execution_count": null,
   "metadata": {},
   "outputs": [],
   "source": [
    "df2 = pd.DataFrame(mydict)"
   ]
  },
  {
   "cell_type": "code",
   "execution_count": null,
   "metadata": {},
   "outputs": [],
   "source": [
    "df"
   ]
  },
  {
   "cell_type": "code",
   "execution_count": null,
   "metadata": {},
   "outputs": [],
   "source": [
    "df.loc[(df.University == 'yes,full-time')]"
   ]
  },
  {
   "cell_type": "code",
   "execution_count": null,
   "metadata": {},
   "outputs": [],
   "source": [
    "df.reset_index(inplace=True)"
   ]
  },
  {
   "cell_type": "code",
   "execution_count": null,
   "metadata": {},
   "outputs": [],
   "source": [
    "pd.set_option(\"display.max_rows\", None, \"display.max_columns\", None)\n",
    "df\n"
   ]
  },
  {
   "cell_type": "code",
   "execution_count": null,
   "metadata": {},
   "outputs": [],
   "source": [
    "df.iloc[0]"
   ]
  },
  {
   "cell_type": "code",
   "execution_count": 7,
   "metadata": {},
   "outputs": [],
   "source": [
    "import pandas as pd"
   ]
  },
  {
   "cell_type": "code",
   "execution_count": 8,
   "metadata": {
    "scrolled": true
   },
   "outputs": [],
   "source": [
    "df3 = pd.read_excel(\"UFO.xlsx\")"
   ]
  },
  {
   "cell_type": "code",
   "execution_count": null,
   "metadata": {},
   "outputs": [],
   "source": [
    "df3"
   ]
  },
  {
   "cell_type": "code",
   "execution_count": 9,
   "metadata": {},
   "outputs": [],
   "source": [
    "df3.to_csv('UFO.csv')"
   ]
  },
  {
   "cell_type": "code",
   "execution_count": null,
   "metadata": {},
   "outputs": [],
   "source": []
  },
  {
   "cell_type": "code",
   "execution_count": 10,
   "metadata": {},
   "outputs": [
    {
     "data": {
      "text/html": [
       "<div>\n",
       "<style scoped>\n",
       "    .dataframe tbody tr th:only-of-type {\n",
       "        vertical-align: middle;\n",
       "    }\n",
       "\n",
       "    .dataframe tbody tr th {\n",
       "        vertical-align: top;\n",
       "    }\n",
       "\n",
       "    .dataframe thead th {\n",
       "        text-align: right;\n",
       "    }\n",
       "</style>\n",
       "<table border=\"1\" class=\"dataframe\">\n",
       "  <thead>\n",
       "    <tr style=\"text-align: right;\">\n",
       "      <th></th>\n",
       "      <th>Date / Time</th>\n",
       "      <th>Country</th>\n",
       "      <th>City</th>\n",
       "      <th>State</th>\n",
       "      <th>Shape</th>\n",
       "      <th>Summary</th>\n",
       "      <th>lat</th>\n",
       "      <th>lng</th>\n",
       "    </tr>\n",
       "  </thead>\n",
       "  <tbody>\n",
       "    <tr>\n",
       "      <th>0</th>\n",
       "      <td>12/21/16 19:15</td>\n",
       "      <td>USA</td>\n",
       "      <td>Waynesboro</td>\n",
       "      <td>VA</td>\n",
       "      <td>Sphere</td>\n",
       "      <td>Bright round object hovering in sky.</td>\n",
       "      <td>38.065229</td>\n",
       "      <td>-78.905888</td>\n",
       "    </tr>\n",
       "    <tr>\n",
       "      <th>1</th>\n",
       "      <td>12/21/16 00:00</td>\n",
       "      <td>USA</td>\n",
       "      <td>Louisville</td>\n",
       "      <td>KY</td>\n",
       "      <td>Unknown</td>\n",
       "      <td>Multiple craft ascending from north of Shelbyv...</td>\n",
       "      <td>38.254238</td>\n",
       "      <td>-85.759407</td>\n",
       "    </tr>\n",
       "    <tr>\n",
       "      <th>2</th>\n",
       "      <td>12/20/16 22:30</td>\n",
       "      <td>USA</td>\n",
       "      <td>Santa Rosa</td>\n",
       "      <td>CA</td>\n",
       "      <td>Sphere</td>\n",
       "      <td>Bright orange planet-like object sighted near ...</td>\n",
       "      <td>38.440467</td>\n",
       "      <td>-122.714431</td>\n",
       "    </tr>\n",
       "    <tr>\n",
       "      <th>3</th>\n",
       "      <td>12/20/16 19:00</td>\n",
       "      <td>USA</td>\n",
       "      <td>Fresno</td>\n",
       "      <td>CA</td>\n",
       "      <td>Circle</td>\n",
       "      <td>Twelve orange globes in formation over Fresno</td>\n",
       "      <td>36.729529</td>\n",
       "      <td>-119.708861</td>\n",
       "    </tr>\n",
       "    <tr>\n",
       "      <th>4</th>\n",
       "      <td>12/19/16 21:53</td>\n",
       "      <td>USA</td>\n",
       "      <td>Reymert</td>\n",
       "      <td>AZ</td>\n",
       "      <td>Circle</td>\n",
       "      <td>While camping in the Cottonwood canyon Rd., al...</td>\n",
       "      <td>33.229779</td>\n",
       "      <td>-111.209290</td>\n",
       "    </tr>\n",
       "    <tr>\n",
       "      <th>...</th>\n",
       "      <td>...</td>\n",
       "      <td>...</td>\n",
       "      <td>...</td>\n",
       "      <td>...</td>\n",
       "      <td>...</td>\n",
       "      <td>...</td>\n",
       "      <td>...</td>\n",
       "      <td>...</td>\n",
       "    </tr>\n",
       "    <tr>\n",
       "      <th>5172</th>\n",
       "      <td>2016-01-01 00:00:00</td>\n",
       "      <td>USA</td>\n",
       "      <td>Elk Grove</td>\n",
       "      <td>CA</td>\n",
       "      <td>Light</td>\n",
       "      <td>6-7 peach-colored craft moving easterly direct...</td>\n",
       "      <td>38.408799</td>\n",
       "      <td>-121.371618</td>\n",
       "    </tr>\n",
       "    <tr>\n",
       "      <th>5173</th>\n",
       "      <td>2016-01-01 00:00:00</td>\n",
       "      <td>USA</td>\n",
       "      <td>Anchorage</td>\n",
       "      <td>AK</td>\n",
       "      <td>Circle</td>\n",
       "      <td>New Years yellow objects.</td>\n",
       "      <td>61.216313</td>\n",
       "      <td>-149.894852</td>\n",
       "    </tr>\n",
       "    <tr>\n",
       "      <th>5174</th>\n",
       "      <td>2016-01-01 00:00:00</td>\n",
       "      <td>USA</td>\n",
       "      <td>Sodaville</td>\n",
       "      <td>OR</td>\n",
       "      <td>Sphere</td>\n",
       "      <td>Two balls of orange light seen above the trees...</td>\n",
       "      <td>44.483395</td>\n",
       "      <td>-122.869982</td>\n",
       "    </tr>\n",
       "    <tr>\n",
       "      <th>5175</th>\n",
       "      <td>2016-01-01 00:00:00</td>\n",
       "      <td>USA</td>\n",
       "      <td>Arnold</td>\n",
       "      <td>MO</td>\n",
       "      <td>Triangle</td>\n",
       "      <td>Triangle obj. moving W to SE from my position....</td>\n",
       "      <td>38.432832</td>\n",
       "      <td>-90.377619</td>\n",
       "    </tr>\n",
       "    <tr>\n",
       "      <th>5176</th>\n",
       "      <td>2016-01-01 00:00:00</td>\n",
       "      <td>USA</td>\n",
       "      <td>Vernon</td>\n",
       "      <td>CT</td>\n",
       "      <td>Sphere</td>\n",
       "      <td>Red sphere in the sky.</td>\n",
       "      <td>36.092946</td>\n",
       "      <td>-80.149628</td>\n",
       "    </tr>\n",
       "  </tbody>\n",
       "</table>\n",
       "<p>5177 rows × 8 columns</p>\n",
       "</div>"
      ],
      "text/plain": [
       "              Date / Time Country        City State     Shape  \\\n",
       "0          12/21/16 19:15     USA  Waynesboro    VA    Sphere   \n",
       "1          12/21/16 00:00     USA  Louisville    KY   Unknown   \n",
       "2          12/20/16 22:30     USA  Santa Rosa    CA    Sphere   \n",
       "3          12/20/16 19:00     USA      Fresno    CA    Circle   \n",
       "4          12/19/16 21:53     USA     Reymert    AZ    Circle   \n",
       "...                   ...     ...         ...   ...       ...   \n",
       "5172  2016-01-01 00:00:00     USA   Elk Grove    CA     Light   \n",
       "5173  2016-01-01 00:00:00     USA   Anchorage    AK    Circle   \n",
       "5174  2016-01-01 00:00:00     USA   Sodaville    OR    Sphere   \n",
       "5175  2016-01-01 00:00:00     USA      Arnold    MO  Triangle   \n",
       "5176  2016-01-01 00:00:00     USA      Vernon    CT    Sphere   \n",
       "\n",
       "                                                Summary        lat         lng  \n",
       "0                  Bright round object hovering in sky.  38.065229  -78.905888  \n",
       "1     Multiple craft ascending from north of Shelbyv...  38.254238  -85.759407  \n",
       "2     Bright orange planet-like object sighted near ...  38.440467 -122.714431  \n",
       "3         Twelve orange globes in formation over Fresno  36.729529 -119.708861  \n",
       "4     While camping in the Cottonwood canyon Rd., al...  33.229779 -111.209290  \n",
       "...                                                 ...        ...         ...  \n",
       "5172  6-7 peach-colored craft moving easterly direct...  38.408799 -121.371618  \n",
       "5173                          New Years yellow objects.  61.216313 -149.894852  \n",
       "5174  Two balls of orange light seen above the trees...  44.483395 -122.869982  \n",
       "5175  Triangle obj. moving W to SE from my position....  38.432832  -90.377619  \n",
       "5176                             Red sphere in the sky.  36.092946  -80.149628  \n",
       "\n",
       "[5177 rows x 8 columns]"
      ]
     },
     "execution_count": 10,
     "metadata": {},
     "output_type": "execute_result"
    }
   ],
   "source": [
    "pd.set_option('display.max_rows', 100, 'display.max_columns', None)\n",
    "df3"
   ]
  },
  {
   "cell_type": "code",
   "execution_count": null,
   "metadata": {},
   "outputs": [],
   "source": [
    "df3.columns"
   ]
  },
  {
   "cell_type": "code",
   "execution_count": null,
   "metadata": {},
   "outputs": [],
   "source": [
    "df3.Country"
   ]
  },
  {
   "cell_type": "code",
   "execution_count": null,
   "metadata": {},
   "outputs": [],
   "source": [
    "df3[\"Date / Time\"]"
   ]
  },
  {
   "cell_type": "code",
   "execution_count": null,
   "metadata": {},
   "outputs": [],
   "source": [
    "df3.Summary"
   ]
  },
  {
   "cell_type": "code",
   "execution_count": null,
   "metadata": {},
   "outputs": [],
   "source": []
  },
  {
   "cell_type": "code",
   "execution_count": null,
   "metadata": {},
   "outputs": [],
   "source": [
    "df3[[\"Date / Time\", \"Country\",\"Summary\"]]"
   ]
  },
  {
   "cell_type": "code",
   "execution_count": 11,
   "metadata": {},
   "outputs": [],
   "source": [
    "import pandas as pd\n",
    "import random\n",
    "\n",
    "data = pd.read_csv(\"uk-500.csv\")\n",
    "\n",
    "data['id'] = [random.randint(0,1000) for x in range(data.shape[0])]\n",
    " "
   ]
  },
  {
   "cell_type": "code",
   "execution_count": null,
   "metadata": {},
   "outputs": [],
   "source": [
    "df3"
   ]
  },
  {
   "cell_type": "code",
   "execution_count": null,
   "metadata": {},
   "outputs": [],
   "source": [
    "df3.iloc[0:3]"
   ]
  },
  {
   "cell_type": "code",
   "execution_count": null,
   "metadata": {},
   "outputs": [],
   "source": [
    "df3.iloc[: , 0:3]"
   ]
  },
  {
   "cell_type": "code",
   "execution_count": null,
   "metadata": {},
   "outputs": [],
   "source": [
    "df3.iloc[0:4, 0:4]"
   ]
  },
  {
   "cell_type": "markdown",
   "metadata": {},
   "source": [
    "### "
   ]
  },
  {
   "cell_type": "code",
   "execution_count": null,
   "metadata": {},
   "outputs": [],
   "source": [
    "df3.iloc[[4, 6, 28, 47, 90], [1, 2, 4]]"
   ]
  },
  {
   "cell_type": "code",
   "execution_count": null,
   "metadata": {},
   "outputs": [],
   "source": [
    "df3.loc[df3.Country == 'USA', ['City', 'Shape']]"
   ]
  },
  {
   "cell_type": "code",
   "execution_count": null,
   "metadata": {},
   "outputs": [],
   "source": [
    "data"
   ]
  },
  {
   "cell_type": "code",
   "execution_count": null,
   "metadata": {},
   "outputs": [],
   "source": [
    "data.loc[data['first_name'] == 'Antonio', 'city':'email']"
   ]
  },
  {
   "cell_type": "code",
   "execution_count": null,
   "metadata": {},
   "outputs": [],
   "source": [
    "data.loc[data['email'].str.endswith('hotmail.com')]"
   ]
  },
  {
   "cell_type": "code",
   "execution_count": null,
   "metadata": {},
   "outputs": [],
   "source": [
    "import os\n",
    "os.name\n",
    "\n",
    "os.getcwd()\n",
    "\n"
   ]
  },
  {
   "cell_type": "code",
   "execution_count": null,
   "metadata": {},
   "outputs": [],
   "source": []
  },
  {
   "cell_type": "code",
   "execution_count": null,
   "metadata": {},
   "outputs": [],
   "source": [
    "df3"
   ]
  },
  {
   "cell_type": "code",
   "execution_count": null,
   "metadata": {},
   "outputs": [],
   "source": [
    "df3.value_counts()\n",
    "\n",
    "df3"
   ]
  },
  {
   "cell_type": "code",
   "execution_count": null,
   "metadata": {},
   "outputs": [],
   "source": [
    "df3['Date-and-Time'].value_counts()"
   ]
  },
  {
   "cell_type": "code",
   "execution_count": null,
   "metadata": {},
   "outputs": [],
   "source": [
    "df3.describe()"
   ]
  },
  {
   "cell_type": "code",
   "execution_count": 30,
   "metadata": {},
   "outputs": [],
   "source": [
    "df3"
   ]
  },
  {
   "cell_type": "code",
   "execution_count": 47,
   "metadata": {},
   "outputs": [
    {
     "ename": "AttributeError",
     "evalue": "'NoneType' object has no attribute 'rename'",
     "output_type": "error",
     "traceback": [
      "\u001b[0;31m---------------------------------------------------------------------------\u001b[0m",
      "\u001b[0;31mAttributeError\u001b[0m                            Traceback (most recent call last)",
      "\u001b[0;32m<ipython-input-47-2425c5f5c201>\u001b[0m in \u001b[0;36m<module>\u001b[0;34m\u001b[0m\n\u001b[0;32m----> 1\u001b[0;31m \u001b[0mdf3\u001b[0m\u001b[0;34m.\u001b[0m\u001b[0mrename\u001b[0m\u001b[0;34m(\u001b[0m\u001b[0mcolumns\u001b[0m\u001b[0;34m=\u001b[0m\u001b[0;34m{\u001b[0m\u001b[0;34m'Date/Time'\u001b[0m\u001b[0;34m:\u001b[0m\u001b[0;34m'Date-and-Time'\u001b[0m\u001b[0;34m}\u001b[0m\u001b[0;34m)\u001b[0m\u001b[0;34m\u001b[0m\u001b[0;34m\u001b[0m\u001b[0m\n\u001b[0m\u001b[1;32m      2\u001b[0m \u001b[0;34m\u001b[0m\u001b[0m\n\u001b[1;32m      3\u001b[0m \u001b[0mdf3\u001b[0m\u001b[0;34m\u001b[0m\u001b[0;34m\u001b[0m\u001b[0m\n",
      "\u001b[0;31mAttributeError\u001b[0m: 'NoneType' object has no attribute 'rename'"
     ]
    }
   ],
   "source": [
    "df3.rename(columns={'Date/Time':'Date-and-Time'})\n",
    "\n",
    "df3"
   ]
  },
  {
   "cell_type": "code",
   "execution_count": null,
   "metadata": {},
   "outputs": [],
   "source": []
  },
  {
   "cell_type": "code",
   "execution_count": 50,
   "metadata": {},
   "outputs": [],
   "source": [
    "df3"
   ]
  },
  {
   "cell_type": "code",
   "execution_count": 109,
   "metadata": {},
   "outputs": [
    {
     "data": {
      "text/html": [
       "<div>\n",
       "<style scoped>\n",
       "    .dataframe tbody tr th:only-of-type {\n",
       "        vertical-align: middle;\n",
       "    }\n",
       "\n",
       "    .dataframe tbody tr th {\n",
       "        vertical-align: top;\n",
       "    }\n",
       "\n",
       "    .dataframe thead th {\n",
       "        text-align: right;\n",
       "    }\n",
       "</style>\n",
       "<table border=\"1\" class=\"dataframe\">\n",
       "  <thead>\n",
       "    <tr style=\"text-align: right;\">\n",
       "      <th></th>\n",
       "      <th>1</th>\n",
       "      <th>2</th>\n",
       "      <th>9</th>\n",
       "      <th>10</th>\n",
       "      <th>5</th>\n",
       "      <th>0</th>\n",
       "      <th>8</th>\n",
       "      <th>3</th>\n",
       "      <th>11</th>\n",
       "      <th>6</th>\n",
       "      <th>7</th>\n",
       "      <th>4</th>\n",
       "      <th>12</th>\n",
       "    </tr>\n",
       "  </thead>\n",
       "  <tbody>\n",
       "    <tr>\n",
       "      <th>0</th>\n",
       "      <td>e</td>\n",
       "      <td>e</td>\n",
       "      <td>e</td>\n",
       "      <td>e</td>\n",
       "      <td>f</td>\n",
       "      <td>g</td>\n",
       "      <td>g</td>\n",
       "      <td>k</td>\n",
       "      <td>k</td>\n",
       "      <td>o</td>\n",
       "      <td>r</td>\n",
       "      <td>s</td>\n",
       "      <td>s</td>\n",
       "    </tr>\n",
       "    <tr>\n",
       "      <th>1</th>\n",
       "      <td>e</td>\n",
       "      <td>e</td>\n",
       "      <td>e</td>\n",
       "      <td>e</td>\n",
       "      <td>f</td>\n",
       "      <td>g</td>\n",
       "      <td>g</td>\n",
       "      <td>k</td>\n",
       "      <td>k</td>\n",
       "      <td>o</td>\n",
       "      <td>r</td>\n",
       "      <td>s</td>\n",
       "      <td>s</td>\n",
       "    </tr>\n",
       "    <tr>\n",
       "      <th>2</th>\n",
       "      <td>e</td>\n",
       "      <td>e</td>\n",
       "      <td>e</td>\n",
       "      <td>e</td>\n",
       "      <td>f</td>\n",
       "      <td>g</td>\n",
       "      <td>g</td>\n",
       "      <td>k</td>\n",
       "      <td>k</td>\n",
       "      <td>o</td>\n",
       "      <td>r</td>\n",
       "      <td>s</td>\n",
       "      <td>s</td>\n",
       "    </tr>\n",
       "    <tr>\n",
       "      <th>3</th>\n",
       "      <td>e</td>\n",
       "      <td>e</td>\n",
       "      <td>e</td>\n",
       "      <td>e</td>\n",
       "      <td>f</td>\n",
       "      <td>g</td>\n",
       "      <td>g</td>\n",
       "      <td>k</td>\n",
       "      <td>k</td>\n",
       "      <td>o</td>\n",
       "      <td>r</td>\n",
       "      <td>s</td>\n",
       "      <td>s</td>\n",
       "    </tr>\n",
       "    <tr>\n",
       "      <th>4</th>\n",
       "      <td>e</td>\n",
       "      <td>e</td>\n",
       "      <td>e</td>\n",
       "      <td>e</td>\n",
       "      <td>f</td>\n",
       "      <td>g</td>\n",
       "      <td>g</td>\n",
       "      <td>k</td>\n",
       "      <td>k</td>\n",
       "      <td>o</td>\n",
       "      <td>r</td>\n",
       "      <td>s</td>\n",
       "      <td>s</td>\n",
       "    </tr>\n",
       "  </tbody>\n",
       "</table>\n",
       "</div>"
      ],
      "text/plain": [
       "  1  2  9  10 5  0  8  3  11 6  7  4  12\n",
       "0  e  e  e  e  f  g  g  k  k  o  r  s  s\n",
       "1  e  e  e  e  f  g  g  k  k  o  r  s  s\n",
       "2  e  e  e  e  f  g  g  k  k  o  r  s  s\n",
       "3  e  e  e  e  f  g  g  k  k  o  r  s  s\n",
       "4  e  e  e  e  f  g  g  k  k  o  r  s  s"
      ]
     },
     "execution_count": 109,
     "metadata": {},
     "output_type": "execute_result"
    }
   ],
   "source": [
    "import pandas as pd \n",
    "   \n",
    "\n",
    "gfg_string = 'geeksforgeeks'\n",
    "gfg_list = 5 * [pd.Series(list(gfg_string))]\n",
    "gfg_df = pd.DataFrame(gfg_list)\n",
    "\n",
    "new_df = gfg_df.apply(lambda x: x.sort_values(), axis = 1)\n",
    "new_df\n"
   ]
  },
  {
   "cell_type": "code",
   "execution_count": 114,
   "metadata": {},
   "outputs": [
    {
     "data": {
      "text/plain": [
       "0    M\n",
       "1    Y\n",
       "2    A\n",
       "3    S\n",
       "4    S\n",
       "dtype: object"
      ]
     },
     "execution_count": 114,
     "metadata": {},
     "output_type": "execute_result"
    }
   ],
   "source": [
    "import pandas as pd\n",
    "gfg_string = \"myass\"\n",
    "\n",
    "gf_list = pd.Series(list(gfg_string))\n",
    "new = gf_list.apply(lambda x : x.upper())\n",
    "new"
   ]
  },
  {
   "cell_type": "code",
   "execution_count": 3,
   "metadata": {},
   "outputs": [],
   "source": [
    "import pandas as pd\n",
    "import numpy as np"
   ]
  },
  {
   "cell_type": "code",
   "execution_count": 15,
   "metadata": {},
   "outputs": [
    {
     "name": "stdout",
     "output_type": "stream",
     "text": [
      "          A         B         C         D\n",
      "0  0.384858  0.162516  0.006216  0.288929\n",
      "1  0.890231  0.114498  0.222473  0.926812\n",
      "2  0.522493  0.733427  0.652232  0.398946\n",
      "3  0.202173  0.803856  0.899726  0.270953\n",
      "4  0.508534  0.969291  0.357357  0.027954\n",
      "5  0.918373  0.536585  0.445654  0.580712\n",
      "6  0.643300  0.897521  0.900142  0.258966\n",
      "7  0.097084  0.639505  0.992588  0.024019\n"
     ]
    },
    {
     "data": {
      "text/plain": [
       "<AxesSubplot:>"
      ]
     },
     "execution_count": 15,
     "metadata": {},
     "output_type": "execute_result"
    },
    {
     "data": {
      "image/png": "[encoded data removed]",
      "text/plain": [
       "<Figure size 432x288 with 1 Axes>"
      ]
     },
     "metadata": {
      "needs_background": "light"
     },
     "output_type": "display_data"
    }
   ],
   "source": [
    "f = pd.DataFrame(np.random.rand(8,4), columns = ['A','B','C','D'])\n",
    "print(f)\n",
    "f.plot.bar()"
   ]
  },
  {
   "cell_type": "code",
   "execution_count": 9,
   "metadata": {},
   "outputs": [
    {
     "data": {
      "text/plain": [
       "<AxesSubplot:ylabel='Density'>"
      ]
     },
     "execution_count": 9,
     "metadata": {},
     "output_type": "execute_result"
    },
    {
     "data": {
      "image/png": "[encoded data removed]",
      "text/plain": [
       "<Figure size 432x288 with 1 Axes>"
      ]
     },
     "metadata": {
      "needs_background": "light"
     },
     "output_type": "display_data"
    }
   ],
   "source": [
    "f.plot.density()"
   ]
  },
  {
   "cell_type": "code",
   "execution_count": 12,
   "metadata": {},
   "outputs": [
    {
     "data": {
      "text/plain": [
       "<AxesSubplot:ylabel='Frequency'>"
      ]
     },
     "execution_count": 12,
     "metadata": {},
     "output_type": "execute_result"
    },
    {
     "data": {
      "image/png": "[encoded data removed]",
      "text/plain": [
       "<Figure size 432x288 with 1 Axes>"
      ]
     },
     "metadata": {
      "needs_background": "light"
     },
     "output_type": "display_data"
    }
   ],
   "source": [
    "f.plot.hist(bins=20)"
   ]
  },
  {
   "cell_type": "code",
   "execution_count": 13,
   "metadata": {},
   "outputs": [
    {
     "data": {
      "text/plain": [
       "<AxesSubplot:>"
      ]
     },
     "execution_count": 13,
     "metadata": {},
     "output_type": "execute_result"
    },
    {
     "data": {
      "image/png": "[encoded data removed]",
      "text/plain": [
       "<Figure size 432x288 with 1 Axes>"
      ]
     },
     "metadata": {
      "needs_background": "light"
     },
     "output_type": "display_data"
    }
   ],
   "source": [
    "f.plot.box()"
   ]
  },
  {
   "cell_type": "code",
   "execution_count": 16,
   "metadata": {},
   "outputs": [
    {
     "data": {
      "text/plain": [
       "<AxesSubplot:>"
      ]
     },
     "execution_count": 16,
     "metadata": {},
     "output_type": "execute_result"
    },
    {
     "data": {
      "image/png": "[encoded data removed]",
      "text/plain": [
       "<Figure size 432x288 with 1 Axes>"
      ]
     },
     "metadata": {
      "needs_background": "light"
     },
     "output_type": "display_data"
    }
   ],
   "source": [
    "f.plot.area()"
   ]
  },
  {
   "cell_type": "code",
   "execution_count": 17,
   "metadata": {},
   "outputs": [
    {
     "data": {
      "text/plain": [
       "<AxesSubplot:>"
      ]
     },
     "execution_count": 17,
     "metadata": {},
     "output_type": "execute_result"
    },
    {
     "data": {
      "image/png": "[encoded data removed]",
      "text/plain": [
       "<Figure size 432x288 with 1 Axes>"
      ]
     },
     "metadata": {
      "needs_background": "light"
     },
     "output_type": "display_data"
    }
   ],
   "source": [
    "f.plot.barh()"
   ]
  },
  {
   "cell_type": "code",
   "execution_count": 18,
   "metadata": {},
   "outputs": [
    {
     "data": {
      "text/plain": [
       "<AxesSubplot:ylabel='Density'>"
      ]
     },
     "execution_count": 18,
     "metadata": {},
     "output_type": "execute_result"
    },
    {
     "data": {
      "image/png": "[encoded data removed]",
      "text/plain": [
       "<Figure size 432x288 with 1 Axes>"
      ]
     },
     "metadata": {
      "needs_background": "light"
     },
     "output_type": "display_data"
    }
   ],
   "source": [
    "f.plot.density()"
   ]
  },
  {
   "cell_type": "code",
   "execution_count": 20,
   "metadata": {},
   "outputs": [
    {
     "data": {
      "text/plain": [
       "<AxesSubplot:xlabel='A', ylabel='B'>"
      ]
     },
     "execution_count": 20,
     "metadata": {},
     "output_type": "execute_result"
    },
    {
     "data": {
      "image/png": "[encoded data removed]",
      "text/plain": [
       "<Figure size 432x288 with 2 Axes>"
      ]
     },
     "metadata": {
      "needs_background": "light"
     },
     "output_type": "display_data"
    }
   ],
   "source": [
    "f.plot.hexbin(x = 'A', y = 'B')"
   ]
  },
  {
   "cell_type": "code",
   "execution_count": null,
   "metadata": {},
   "outputs": [],
   "source": []
  },
  {
   "cell_type": "code",
   "execution_count": null,
   "metadata": {},
   "outputs": [],
   "source": []
  },
  {
   "cell_type": "code",
   "execution_count": null,
   "metadata": {},
   "outputs": [],
   "source": []
  },
  {
   "cell_type": "code",
   "execution_count": null,
   "metadata": {},
   "outputs": [],
   "source": []
  },
  {
   "cell_type": "code",
   "execution_count": null,
   "metadata": {},
   "outputs": [],
   "source": []
  },
  {
   "cell_type": "code",
   "execution_count": null,
   "metadata": {},
   "outputs": [],
   "source": []
  },
  {
   "cell_type": "code",
   "execution_count": null,
   "metadata": {},
   "outputs": [],
   "source": []
  },
  {
   "cell_type": "code",
   "execution_count": null,
   "metadata": {},
   "outputs": [],
   "source": []
  },
  {
   "cell_type": "code",
   "execution_count": null,
   "metadata": {},
   "outputs": [],
   "source": []
  },
  {
   "cell_type": "code",
   "execution_count": null,
   "metadata": {},
   "outputs": [],
   "source": []
  },
  {
   "cell_type": "code",
   "execution_count": null,
   "metadata": {},
   "outputs": [],
   "source": []
  },
  {
   "cell_type": "code",
   "execution_count": null,
   "metadata": {},
   "outputs": [],
   "source": []
  },
  {
   "cell_type": "code",
   "execution_count": null,
   "metadata": {},
   "outputs": [],
   "source": []
  },
  {
   "cell_type": "code",
   "execution_count": null,
   "metadata": {},
   "outputs": [],
   "source": []
  },
  {
   "cell_type": "code",
   "execution_count": null,
   "metadata": {},
   "outputs": [],
   "source": []
  },
  {
   "cell_type": "code",
   "execution_count": null,
   "metadata": {},
   "outputs": [],
   "source": []
  }
 ],
 "metadata": {
  "kernelspec": {
   "display_name": "Python 3.8.3 64-bit ('base': conda)",
   "language": "python",
   "name": "python38364bitbasecondaf5ae4ab580394e4693ea5507f08b0bfd"
  },
  "language_info": {
   "codemirror_mode": {
    "name": "ipython",
    "version": 3
   },
   "file_extension": ".py",
   "mimetype": "text/x-python",
   "name": "python",
   "nbconvert_exporter": "python",
   "pygments_lexer": "ipython3",
   "version": "3.8.3"
  }
 },
 "nbformat": 4,
 "nbformat_minor": 4
}
