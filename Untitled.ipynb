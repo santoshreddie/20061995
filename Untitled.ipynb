{
 "cells": [
  {
   "cell_type": "code",
   "execution_count": 14,
   "metadata": {},
   "outputs": [
    {
     "name": "stdout",
     "output_type": "stream",
     "text": [
      "Enter the string :santosh1224\n",
      "Original string is :  santosh1224\n",
      "The no of digits:  1224\n",
      "sum of all digits:  9\n"
     ]
    }
   ],
   "source": [
    "input_str = input(\"Enter the string :\")\n",
    "\n",
    "print(\"Original string is : \", input_str)\n",
    "\n",
    "res = ''.join(filter(lambda i: i.isdigit(), input_str))\n",
    "sum_digit = 0\n",
    "for x in res:\n",
    "    if x.isdigit() == True:\n",
    "        z = int(x)\n",
    "        sum_digit = sum_digit + z\n",
    "    \n",
    "    \n",
    "\n",
    "print(\"The no of digits: \",res)\n",
    "print(\"sum of all digits: \",sum_digit)"
   ]
  },
  {
   "cell_type": "code",
   "execution_count": 10,
   "metadata": {},
   "outputs": [
    {
     "data": {
      "text/plain": [
       "(6, 'santosh123')"
      ]
     },
     "execution_count": 10,
     "metadata": {},
     "output_type": "execute_result"
    }
   ],
   "source": [
    "sum_digits_string(\"santosh123\")"
   ]
  },
  {
   "cell_type": "code",
   "execution_count": null,
   "metadata": {},
   "outputs": [],
   "source": [
    "def sum_digits_string(str1):\n",
    "    sum_digit = 0\n",
    "    for x in str1:\n",
    "        if x.isdigit() == True:\n",
    "            z = int(x)\n",
    "            sum_digit = sum_digit + z\n",
    "\n",
    "    return sum_digit, str1, \n",
    "\n"
   ]
  },
  {
   "cell_type": "code",
   "execution_count": 15,
   "metadata": {},
   "outputs": [
    {
     "name": "stdout",
     "output_type": "stream",
     "text": [
      "The original dictionary 1 is : {'Gfg': 20, 'is': 36, 'best': 100}\n",
      "The original dictionary 2 is : {'Gfg2': 26, 'is2': 19, 'best2': 70}\n",
      "Mapped dictionary : {'Gfg': 26, 'is': 19, 'best': 70}\n"
     ]
    }
   ],
   "source": [
    "# initializing dictionaries\n",
    "test_dict1 = {\"Gfg\" : 20, \"is\" : 36, \"best\" : 100}\n",
    "test_dict2 = {\"Gfg2\" : 26, \"is2\" : 19, \"best2\" : 70}\n",
    "  \n",
    "# printing original dictionaries\n",
    "print(\"The original dictionary 1 is : \" + str(test_dict1))\n",
    "print(\"The original dictionary 2 is : \" + str(test_dict2))\n",
    "  \n",
    "# extracting keys and values\n",
    "keys1 = list(test_dict1.keys())\n",
    "vals2 = list(test_dict2.values())\n",
    "  \n",
    "# assigning new values \n",
    "res = dict()\n",
    "for idx in range(len(keys1)):\n",
    "    res[keys1[idx]] = vals2[idx]\n",
    "      \n",
    "# printing result \n",
    "print(\"Mapped dictionary : \" + str(res)) "
   ]
  },
  {
   "cell_type": "code",
   "execution_count": null,
   "metadata": {},
   "outputs": [],
   "source": []
  },
  {
   "cell_type": "code",
   "execution_count": null,
   "metadata": {},
   "outputs": [],
   "source": []
  },
  {
   "cell_type": "code",
   "execution_count": null,
   "metadata": {},
   "outputs": [],
   "source": []
  },
  {
   "cell_type": "code",
   "execution_count": null,
   "metadata": {},
   "outputs": [],
   "source": []
  },
  {
   "cell_type": "code",
   "execution_count": null,
   "metadata": {},
   "outputs": [],
   "source": []
  },
  {
   "cell_type": "code",
   "execution_count": null,
   "metadata": {},
   "outputs": [],
   "source": []
  },
  {
   "cell_type": "code",
   "execution_count": null,
   "metadata": {},
   "outputs": [],
   "source": []
  },
  {
   "cell_type": "code",
   "execution_count": null,
   "metadata": {},
   "outputs": [],
   "source": []
  },
  {
   "cell_type": "code",
   "execution_count": null,
   "metadata": {},
   "outputs": [],
   "source": []
  },
  {
   "cell_type": "code",
   "execution_count": null,
   "metadata": {},
   "outputs": [],
   "source": []
  }
 ],
 "metadata": {
  "kernelspec": {
   "display_name": "Python 3.8.3 64-bit ('base': conda)",
   "language": "python",
   "name": "python38364bitbasecondaf5ae4ab580394e4693ea5507f08b0bfd"
  },
  "language_info": {
   "codemirror_mode": {
    "name": "ipython",
    "version": 3
   },
   "file_extension": ".py",
   "mimetype": "text/x-python",
   "name": "python",
   "nbconvert_exporter": "python",
   "pygments_lexer": "ipython3",
   "version": "3.8.3"
  }
 },
 "nbformat": 4,
 "nbformat_minor": 4
}
