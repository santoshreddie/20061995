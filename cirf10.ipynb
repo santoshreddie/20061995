{
  "nbformat": 4,
  "nbformat_minor": 0,
  "metadata": {
    "colab": {
      "name": "cirf10.ipynb",
      "provenance": [],
      "collapsed_sections": []
    },
    "kernelspec": {
      "name": "python3",
      "display_name": "Python 3"
    },
    "language_info": {
      "name": "python"
    }
  },
  "cells": [
    {
      "cell_type": "code",
      "metadata": {
        "id": "Hq1SIssc8Wr8"
      },
      "source": [
        "import tensorflow as tf\n",
        "from tensorflow.keras import layers, datasets, models\n",
        "import matplotlib.pyplot as plt\n",
        "import numpy as np\n",
        "import pandas as pd"
      ],
      "execution_count": 19,
      "outputs": []
    },
    {
      "cell_type": "code",
      "metadata": {
        "id": "i8IXTDz587Ku"
      },
      "source": [
        "(x_train,y_train),(x_test,y_test) = datasets.cifar10.load_data()"
      ],
      "execution_count": 20,
      "outputs": []
    },
    {
      "cell_type": "code",
      "metadata": {
        "colab": {
          "base_uri": "https://localhost:8080/"
        },
        "id": "hKWO4rcB87NO",
        "outputId": "160f8958-c944-4856-a650-72eac465bed7"
      },
      "source": [
        "x_train.shape, y_train.shape"
      ],
      "execution_count": 21,
      "outputs": [
        {
          "output_type": "execute_result",
          "data": {
            "text/plain": [
              "((50000, 32, 32, 3), (50000, 1))"
            ]
          },
          "metadata": {
            "tags": []
          },
          "execution_count": 21
        }
      ]
    },
    {
      "cell_type": "code",
      "metadata": {
        "id": "-3vguUPZGoS0"
      },
      "source": [
        ""
      ],
      "execution_count": 21,
      "outputs": []
    },
    {
      "cell_type": "code",
      "metadata": {
        "id": "YD5zZol1FqPp"
      },
      "source": [
        "classe = [\"airplane\", \"automobile\", \"bird\", \"cat\", \"dear\", \"dog\", \"frog\", \"horse\", \"ship\", \"truck\"]"
      ],
      "execution_count": 42,
      "outputs": []
    },
    {
      "cell_type": "code",
      "metadata": {
        "id": "eoAqipEi87PS"
      },
      "source": [
        "def plot_sample(x, y, index):\n",
        "  plt.figure(figsize=(15,2))\n",
        "  plt.imshow(x[index])\n",
        "  plt.xlabel(classe[y[index]])\n",
        "\n",
        "\n"
      ],
      "execution_count": 43,
      "outputs": []
    },
    {
      "cell_type": "code",
      "metadata": {
        "id": "gKMALP7g87Rz"
      },
      "source": [
        "x_train = x_train/255\n",
        "x_test = x_test/255"
      ],
      "execution_count": 24,
      "outputs": []
    },
    {
      "cell_type": "code",
      "metadata": {
        "colab": {
          "base_uri": "https://localhost:8080/"
        },
        "id": "WkG-tzqH87T_",
        "outputId": "f682f577-f6ba-4fba-8a24-1cc810f0059c"
      },
      "source": [
        "ann = models.Sequential([\n",
        "                         layers.Conv2D(filters=32, kernel_size=(3,3), activation=\"relu\", input_shape = (32, 32, 3)),\n",
        "                         layers.MaxPooling2D((2,2)),\n",
        "                         layers.Conv2D(filters=32, kernel_size=(3,3), activation=\"relu\"),\n",
        "                         layers.MaxPooling2D((2,2)),\n",
        "                         layers.Flatten(input_shape = (32, 32, 3)),\n",
        "                         layers.Dense(3000, activation=\"relu\"),\n",
        "                         layers.Dense(10, activation=\"softmax\")\n",
        "\n",
        "                         \n",
        "                         \n",
        "])\n",
        "\n",
        "ann.compile(optimizer = 'adam',\n",
        "            loss = 'sparse_categorical_crossentropy',\n",
        "            metrics = ['accuracy'])\n",
        "\n",
        "ann.fit(x_train, y_train, epochs = 10)"
      ],
      "execution_count": 29,
      "outputs": [
        {
          "output_type": "stream",
          "text": [
            "Epoch 1/10\n",
            "1563/1563 [==============================] - 127s 81ms/step - loss: 1.3564 - accuracy: 0.5153\n",
            "Epoch 2/10\n",
            "1563/1563 [==============================] - 124s 79ms/step - loss: 0.9684 - accuracy: 0.6593\n",
            "Epoch 3/10\n",
            "1563/1563 [==============================] - 121s 78ms/step - loss: 0.7659 - accuracy: 0.7306\n",
            "Epoch 4/10\n",
            "1563/1563 [==============================] - 124s 79ms/step - loss: 0.5733 - accuracy: 0.8004\n",
            "Epoch 5/10\n",
            "1563/1563 [==============================] - 122s 78ms/step - loss: 0.3863 - accuracy: 0.8664\n",
            "Epoch 6/10\n",
            "1563/1563 [==============================] - 124s 80ms/step - loss: 0.2311 - accuracy: 0.9231\n",
            "Epoch 7/10\n",
            "1563/1563 [==============================] - 119s 76ms/step - loss: 0.1496 - accuracy: 0.9502\n",
            "Epoch 8/10\n",
            "1563/1563 [==============================] - 123s 79ms/step - loss: 0.1092 - accuracy: 0.9634\n",
            "Epoch 9/10\n",
            "1563/1563 [==============================] - 123s 79ms/step - loss: 0.0887 - accuracy: 0.9712\n",
            "Epoch 10/10\n",
            "1563/1563 [==============================] - 126s 81ms/step - loss: 0.0873 - accuracy: 0.9711\n"
          ],
          "name": "stdout"
        },
        {
          "output_type": "execute_result",
          "data": {
            "text/plain": [
              "<tensorflow.python.keras.callbacks.History at 0x7f492bd21f10>"
            ]
          },
          "metadata": {
            "tags": []
          },
          "execution_count": 29
        }
      ]
    },
    {
      "cell_type": "code",
      "metadata": {
        "colab": {
          "base_uri": "https://localhost:8080/"
        },
        "id": "EMwxAYjY87V6",
        "outputId": "c81f0d87-303e-4675-98b3-137bb283e7fa"
      },
      "source": [
        "ann.evaluate(x_test, y_test)"
      ],
      "execution_count": 31,
      "outputs": [
        {
          "output_type": "stream",
          "text": [
            "313/313 [==============================] - 6s 19ms/step - loss: 1.6464 - accuracy: 0.7088\n"
          ],
          "name": "stdout"
        },
        {
          "output_type": "execute_result",
          "data": {
            "text/plain": [
              "[1.6464165449142456, 0.7088000178337097]"
            ]
          },
          "metadata": {
            "tags": []
          },
          "execution_count": 31
        }
      ]
    },
    {
      "cell_type": "code",
      "metadata": {
        "colab": {
          "base_uri": "https://localhost:8080/"
        },
        "id": "oZJjigZN87Y5",
        "outputId": "cb2b9603-c5be-4059-d12b-20a63cc7b7ac"
      },
      "source": [
        "y_test = y_test.reshape(-1,)\n",
        "y_test[:5]"
      ],
      "execution_count": 32,
      "outputs": [
        {
          "output_type": "execute_result",
          "data": {
            "text/plain": [
              "array([3, 8, 8, 0, 6], dtype=uint8)"
            ]
          },
          "metadata": {
            "tags": []
          },
          "execution_count": 32
        }
      ]
    },
    {
      "cell_type": "code",
      "metadata": {
        "colab": {
          "base_uri": "https://localhost:8080/",
          "height": 173
        },
        "id": "7t6_uHvv87bV",
        "outputId": "fb275863-0735-4dc9-8c11-688bd1169cff"
      },
      "source": [
        "plot_sample(x_test,y_test, 1)"
      ],
      "execution_count": 36,
      "outputs": [
        {
          "output_type": "display_data",
          "data": {
            "image/png": "[encoded data removed]",
            "text/plain": [
              "<Figure size 1080x144 with 1 Axes>"
            ]
          },
          "metadata": {
            "tags": [],
            "needs_background": "light"
          }
        }
      ]
    },
    {
      "cell_type": "code",
      "metadata": {
        "colab": {
          "base_uri": "https://localhost:8080/"
        },
        "id": "UZAg3UoS87dq",
        "outputId": "e9b3ccb7-1719-4d87-b389-480803a9e560"
      },
      "source": [
        "y_pred = ann.predict(x_test)\n",
        "y_pred"
      ],
      "execution_count": 38,
      "outputs": [
        {
          "output_type": "execute_result",
          "data": {
            "text/plain": [
              "array([[9.76795178e-09, 3.88110918e-03, 1.01418387e-04, ...,\n",
              "        5.35136314e-06, 2.43736067e-05, 1.27337685e-07],\n",
              "       [2.03732234e-05, 4.71312046e-01, 1.42107395e-14, ...,\n",
              "        3.37663154e-24, 5.28667629e-01, 2.09635544e-08],\n",
              "       [7.80673372e-03, 2.15804443e-01, 8.19262932e-05, ...,\n",
              "        1.78414304e-03, 6.68541849e-01, 1.04169600e-01],\n",
              "       ...,\n",
              "       [2.02515650e-14, 2.48485754e-19, 1.84390992e-05, ...,\n",
              "        5.39255268e-07, 2.34972286e-23, 2.36373692e-13],\n",
              "       [2.57033389e-03, 4.15137500e-01, 1.01058302e-03, ...,\n",
              "        2.00234851e-09, 1.58693036e-09, 8.66529717e-06],\n",
              "       [9.33837901e-19, 6.43478533e-20, 1.19024990e-16, ...,\n",
              "        1.00000000e+00, 4.83786507e-22, 1.06405623e-22]], dtype=float32)"
            ]
          },
          "metadata": {
            "tags": []
          },
          "execution_count": 38
        }
      ]
    },
    {
      "cell_type": "code",
      "metadata": {
        "id": "qNa-V6QV87gC"
      },
      "source": [
        "y_classes = [np.argmax(element) for element in y_pred]"
      ],
      "execution_count": 39,
      "outputs": []
    },
    {
      "cell_type": "code",
      "metadata": {
        "colab": {
          "base_uri": "https://localhost:8080/"
        },
        "id": "0Ia37c-X87ia",
        "outputId": "99c1ad55-4cc4-4738-eab6-d289e6dabe7f"
      },
      "source": [
        "y_classes[:5]"
      ],
      "execution_count": 40,
      "outputs": [
        {
          "output_type": "execute_result",
          "data": {
            "text/plain": [
              "[3, 8, 8, 0, 4]"
            ]
          },
          "metadata": {
            "tags": []
          },
          "execution_count": 40
        }
      ]
    },
    {
      "cell_type": "code",
      "metadata": {
        "colab": {
          "base_uri": "https://localhost:8080/",
          "height": 35
        },
        "id": "NPRUTFOF87kj",
        "outputId": "e08947c6-7f1e-4c06-c5e5-5b329e86587a"
      },
      "source": [
        "classe[y_classes[3]]"
      ],
      "execution_count": 45,
      "outputs": [
        {
          "output_type": "execute_result",
          "data": {
            "application/vnd.google.colaboratory.intrinsic+json": {
              "type": "string"
            },
            "text/plain": [
              "'airplane'"
            ]
          },
          "metadata": {
            "tags": []
          },
          "execution_count": 45
        }
      ]
    },
    {
      "cell_type": "code",
      "metadata": {
        "id": "AvLSdHey87mV"
      },
      "source": [
        ""
      ],
      "execution_count": 47,
      "outputs": []
    },
    {
      "cell_type": "code",
      "metadata": {
        "id": "uDLVaJt987oY"
      },
      "source": [
        ""
      ],
      "execution_count": null,
      "outputs": []
    },
    {
      "cell_type": "code",
      "metadata": {
        "id": "FaI359Vx87sq"
      },
      "source": [
        ""
      ],
      "execution_count": null,
      "outputs": []
    },
    {
      "cell_type": "code",
      "metadata": {
        "id": "CUEtSQpD87vC"
      },
      "source": [
        ""
      ],
      "execution_count": null,
      "outputs": []
    },
    {
      "cell_type": "code",
      "metadata": {
        "id": "pMHb8eot87xW"
      },
      "source": [
        ""
      ],
      "execution_count": null,
      "outputs": []
    },
    {
      "cell_type": "code",
      "metadata": {
        "id": "qm3MfOaU87zc"
      },
      "source": [
        ""
      ],
      "execution_count": null,
      "outputs": []
    }
  ]
}