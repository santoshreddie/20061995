{
 "cells": [
  {
   "cell_type": "code",
   "execution_count": 4,
   "metadata": {},
   "outputs": [],
   "source": [
    "#importing necessary modules\n",
    "import pandas as pd\n",
    "from urllib.request import Request, urlopen\n",
    "import requests\n",
    "from selenium import webdriver\n",
    "from selenium.webdriver import chrome\n",
    "from selenium.common.exceptions import *\n",
    "import datetime\n",
    "import time\n",
    "\n",
    "def reviews(url):\n",
    "    \n",
    "    #first lets get the responce from the website weather we can scrap or not so lets start\n",
    "    response = requests.get(url)\n",
    "    \n",
    "    print(response)\n",
    "    \n",
    "    #getting the driver details \n",
    "    driver = webdriver.Chrome('/home/santosh/Downloads/chromedriver_linux64/chromedriver')\n",
    "    \n",
    "    driver.get(url)\n",
    "    \n",
    "    driver.maximize_window()\n",
    "    \n",
    "    click = driver.find_element_by_xpath('//span[text()=\"All 4507 reviews\"]').click()\n",
    "    "
   ]
  },
  {
   "cell_type": "code",
   "execution_count": 5,
   "metadata": {},
   "outputs": [
    {
     "name": "stdout",
     "output_type": "stream",
     "text": [
      "<Response [200]>\n"
     ]
    }
   ],
   "source": [
    "reviews(\"https://www.flipkart.com/apple-iphone-11-black-64-gb-includes-earpods-power-adapter/p/itm0f37c2240b217?pid=MOBFKCTSVZAXUHGR&lid=LSTMOBFKCTSVZAXUHGREPBFGI&marketplace.\")"
   ]
  }
 ],
 "metadata": {
  "kernelspec": {
   "display_name": "Python 3.8.3 64-bit ('base': conda)",
   "language": "python",
   "name": "python38364bitbasecondaf5ae4ab580394e4693ea5507f08b0bfd"
  },
  "language_info": {
   "codemirror_mode": {
    "name": "ipython",
    "version": 3
   },
   "file_extension": ".py",
   "mimetype": "text/x-python",
   "name": "python",
   "nbconvert_exporter": "python",
   "pygments_lexer": "ipython3",
   "version": "3.7.6"
  }
 },
 "nbformat": 4,
 "nbformat_minor": 4
}
