{
 "cells": [
  {
   "cell_type": "markdown",
   "metadata": {
    "colab_type": "text",
    "id": "D14RFpIEQKPI"
   },
   "source": [
    "## Translation and Language Detection\n",
    "\n",
    "TextBlobs can be translated between languages."
   ]
  },
  {
   "cell_type": "code",
   "execution_count": null,
   "metadata": {},
   "outputs": [],
   "source": [
    "from textblob import TextBlob"
   ]
  },
  {
   "cell_type": "code",
   "execution_count": null,
   "metadata": {
    "colab": {},
    "colab_type": "code",
    "id": "4GKzcjSCQKPJ",
    "outputId": "2c09951a-0fc0-4a03-efba-8482b0a8859f"
   },
   "outputs": [],
   "source": [
    "blob = TextBlob(u'நீங்கள் அனைவருக்கும் நல்வாழ்த்துக்கள்')\n",
    "blob.translate(to='hi')"
   ]
  },
  {
   "cell_type": "markdown",
   "metadata": {
    "colab_type": "text",
    "id": "eJz6p36pQKPN"
   },
   "source": [
    "If no source language is specified, **TextBlob** will attempt to detect the language. You can specify the source language explicitly, like so. Raises **TranslatorError** if the TextBlob cannot be translated into the requested language or NotTranslated if the translated result is the same as the input string."
   ]
  },
  {
   "cell_type": "code",
   "execution_count": null,
   "metadata": {},
   "outputs": [],
   "source": [
    "blob = TextBlob(u'Something is better than nothing')\n",
    "blob.translate(to='zh-CN')"
   ]
  },
  {
   "cell_type": "code",
   "execution_count": null,
   "metadata": {
    "colab": {},
    "colab_type": "code",
    "id": "eQggiqfkQKPO",
    "outputId": "f2ee94b9-9080-4bd1-88e3-d67d6049543c",
    "scrolled": true
   },
   "outputs": [],
   "source": [
    "chinese_blob = TextBlob(u\"有总比没有好\")\n",
    "chinese_blob.translate(from_lang=\"zh-CN\", to='en')"
   ]
  },
  {
   "cell_type": "markdown",
   "metadata": {
    "colab_type": "text",
    "id": "PI-2-OG7QKPT"
   },
   "source": [
    "You can also attempt to detect a TextBlob’s language using **TextBlob.detect_language().**"
   ]
  },
  {
   "cell_type": "code",
   "execution_count": null,
   "metadata": {
    "colab": {
     "base_uri": "https://localhost:8080/",
     "height": 180
    },
    "colab_type": "code",
    "executionInfo": {
     "elapsed": 2269,
     "status": "error",
     "timestamp": 1587293948458,
     "user": {
      "displayName": "Urvish Shah",
      "photoUrl": "",
      "userId": "00632444284786828642"
     },
     "user_tz": -330
    },
    "id": "IhePnEhbQKPU",
    "outputId": "f3ac00e2-92a0-4be4-9767-f92bb5e15de2"
   },
   "outputs": [],
   "source": [
    "d = TextBlob(\"what is you name\")\n",
    "d.detect_language()"
   ]
  },
  {
   "cell_type": "markdown",
   "metadata": {},
   "source": [
    "### Convert english speech to your native language "
   ]
  },
  {
   "cell_type": "code",
   "execution_count": null,
   "metadata": {},
   "outputs": [],
   "source": [
    "import speech_recognition as sr"
   ]
  },
  {
   "cell_type": "code",
   "execution_count": null,
   "metadata": {},
   "outputs": [],
   "source": [
    "r = sr.Recognizer()\n",
    "\n",
    "# Reading Microphone as source\n",
    "# listening the speech and store in audio_text variable\n",
    "\n",
    "with sr.Microphone() as source:\n",
    "    print(\"Keep Talking\")\n",
    "    audio_text = r.listen(source)\n",
    "    print(\"Here is your converted Text below....\")\n",
    "# recoginize_() method will throw a request error if the API is unreachable, hence using exception handling\n",
    "    \n",
    "    try:\n",
    "        # using google speech recognition\n",
    "#        print(\"    \"+r.recognize_google(audio_text))\n",
    "        text = r.recognize_google(audio_text)\n",
    "        blob = TextBlob(text)\n",
    "        print (blob.translate(to='kn'))\n",
    "    except:\n",
    "         print(\"Sorry, I did not get that\")"
   ]
  },
  {
   "cell_type": "code",
   "execution_count": null,
   "metadata": {},
   "outputs": [],
   "source": []
  },
  {
   "cell_type": "code",
   "execution_count": null,
   "metadata": {},
   "outputs": [],
   "source": []
  }
 ],
 "metadata": {
  "hide_input": false,
  "kernelspec": {
   "display_name": "Python 3",
   "language": "python",
   "name": "python3"
  },
  "language_info": {
   "codemirror_mode": {
    "name": "ipython",
    "version": 3
   },
   "file_extension": ".py",
   "mimetype": "text/x-python",
   "name": "python",
   "nbconvert_exporter": "python",
   "pygments_lexer": "ipython3",
   "version": "3.8.10"
  }
 },
 "nbformat": 4,
 "nbformat_minor": 2
}
